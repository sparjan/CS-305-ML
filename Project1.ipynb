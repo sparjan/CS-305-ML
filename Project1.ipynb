{
 "cells": [
  {
   "cell_type": "markdown",
   "metadata": {},
   "source": [
    "<H1><center>Project 1<BR><BR>\n",
    "Classification with <em>k</em> Nearest Neighbors</center></H1>"
   ]
  },
  {
   "cell_type": "markdown",
   "metadata": {},
   "source": [
    "<H2>Task 1: Companies use of machine learning to target advertisements\n",
    "</H2>"
   ]
  },
  {
   "cell_type": "markdown",
   "metadata": {},
   "source": [
    "<P>Read <a href=\"https://www.forbes.com/sites/kashmirhill/2012/02/16/how-target-figured-out-a-teen-girl-was-pregnant-before-her-father-did/#7987f4626668\">this article</a> about how data and machine learning may be used to target product advertisements at different groups of consumers. Optionally, if you are interested in a more extensive account, check out <a href=\"https://www.nytimes.com/2012/02/19/magazine/shopping-habits.html\">this article</a> with more details.</P>\n",
    "\n",
    "<P>Please answer (minimum 200 words) the following questions in the space below. In your opinion, is it problematic (e.g., violating someone's privacy) for companies to gather data on their customers' purchasing habits and use these data to send targeted product advertisements? Assuming a company doesn't share or sell the data, are there other ways a company might use data on customers' shopping habits that you would consider to be problematic?</P>"
   ]
  },
  {
   "cell_type": "markdown",
   "metadata": {
    "collapsed": true
   },
   "source": [
    "\n",
    "\n",
    "\n",
    "\n",
    "\n",
    "\n",
    "\n",
    "\n"
   ]
  },
  {
   "cell_type": "markdown",
   "metadata": {},
   "source": [
    "<H2>Task 2: Classifying diabetes with <em>k</em>NN\n",
    "</H2>"
   ]
  },
  {
   "cell_type": "markdown",
   "metadata": {},
   "source": [
    "<P>Together with the downloaded file containing this notebook, you should find three comma-separated values (csv) files named <code>diabetes_training.csv</code>, <code>diabetes_validation.csv</code>, and <code>diabetes_testing.csv</code>, corresponding to training, validation, and testing data, respectively. The first row of each file contains header information. Each subsequent row represents a person of <a href=\"https://en.wikipedia.org/wiki/Pima_people\">Pima</a> Native American heritage, with feature values separated by commas. The very last column is the label, 0 or 1, which denotes whether or not that person has diabetes. The rest of the columns are, in order,</P>\n",
    "<ol>\n",
    "<li>Number of times pregnant</li>\n",
    "<li>Plasma glucose concentration at 2 hours in an oral glucose tolerance test</li>\n",
    "<li>Diastolic blood pressure (mm Hg)</li>\n",
    "<li>Triceps skin fold thickness (mm)</li>\n",
    "<li>2-Hour serum insulin (mu U/ml)</li>\n",
    "<li>Body mass index (weight in kg/(height in m)^2)</li>\n",
    "<li>Diabetes pedigree function</li>\n",
    "<li>Age (years)</li>\n",
    "</ol>\n",
    "<P>In this task, you will work with the <em>k</em> nearest neighbors algorithm and use it to predict whether someone has diabetes based on various diagnostic measurements.</P>"
   ]
  },
  {
   "cell_type": "markdown",
   "metadata": {},
   "source": [
    "<P>Write a function <code>load</code> that takes a <code>csv</code> file as input, reads in the file, and returns a tuple <code>(X, y)</code>, where <code>X</code> is a data matrix corresponding to the feature values and <code>y</code> is a vector corresponding to the labels. Your function should ignore the first (header) row of the file and it should assume that the labels are in the final column in the file.</P>"
   ]
  },
  {
   "cell_type": "code",
   "execution_count": 1,
   "metadata": {},
   "outputs": [
    {
     "data": {
      "text/html": [
       "<div>\n",
       "<style scoped>\n",
       "    .dataframe tbody tr th:only-of-type {\n",
       "        vertical-align: middle;\n",
       "    }\n",
       "\n",
       "    .dataframe tbody tr th {\n",
       "        vertical-align: top;\n",
       "    }\n",
       "\n",
       "    .dataframe thead th {\n",
       "        text-align: right;\n",
       "    }\n",
       "</style>\n",
       "<table border=\"1\" class=\"dataframe\">\n",
       "  <thead>\n",
       "    <tr style=\"text-align: right;\">\n",
       "      <th></th>\n",
       "      <th>Pregnancies</th>\n",
       "      <th>Glucose</th>\n",
       "      <th>BloodPressure</th>\n",
       "      <th>SkinThickness</th>\n",
       "      <th>Insulin</th>\n",
       "      <th>BMI</th>\n",
       "      <th>DiabetesPedigreeFunction</th>\n",
       "      <th>Age</th>\n",
       "      <th>Outcome</th>\n",
       "    </tr>\n",
       "  </thead>\n",
       "  <tbody>\n",
       "    <tr>\n",
       "      <th>0</th>\n",
       "      <td>0</td>\n",
       "      <td>67</td>\n",
       "      <td>76</td>\n",
       "      <td>0</td>\n",
       "      <td>0</td>\n",
       "      <td>45.3</td>\n",
       "      <td>0.194</td>\n",
       "      <td>46</td>\n",
       "      <td>0</td>\n",
       "    </tr>\n",
       "    <tr>\n",
       "      <th>1</th>\n",
       "      <td>8</td>\n",
       "      <td>91</td>\n",
       "      <td>82</td>\n",
       "      <td>0</td>\n",
       "      <td>0</td>\n",
       "      <td>35.6</td>\n",
       "      <td>0.587</td>\n",
       "      <td>68</td>\n",
       "      <td>0</td>\n",
       "    </tr>\n",
       "    <tr>\n",
       "      <th>2</th>\n",
       "      <td>2</td>\n",
       "      <td>130</td>\n",
       "      <td>96</td>\n",
       "      <td>0</td>\n",
       "      <td>0</td>\n",
       "      <td>22.6</td>\n",
       "      <td>0.268</td>\n",
       "      <td>21</td>\n",
       "      <td>0</td>\n",
       "    </tr>\n",
       "    <tr>\n",
       "      <th>3</th>\n",
       "      <td>7</td>\n",
       "      <td>147</td>\n",
       "      <td>76</td>\n",
       "      <td>0</td>\n",
       "      <td>0</td>\n",
       "      <td>39.4</td>\n",
       "      <td>0.257</td>\n",
       "      <td>43</td>\n",
       "      <td>1</td>\n",
       "    </tr>\n",
       "    <tr>\n",
       "      <th>4</th>\n",
       "      <td>1</td>\n",
       "      <td>139</td>\n",
       "      <td>46</td>\n",
       "      <td>19</td>\n",
       "      <td>83</td>\n",
       "      <td>28.7</td>\n",
       "      <td>0.654</td>\n",
       "      <td>22</td>\n",
       "      <td>0</td>\n",
       "    </tr>\n",
       "  </tbody>\n",
       "</table>\n",
       "</div>"
      ],
      "text/plain": [
       "   Pregnancies  Glucose  BloodPressure  SkinThickness  Insulin   BMI  \\\n",
       "0            0       67             76              0        0  45.3   \n",
       "1            8       91             82              0        0  35.6   \n",
       "2            2      130             96              0        0  22.6   \n",
       "3            7      147             76              0        0  39.4   \n",
       "4            1      139             46             19       83  28.7   \n",
       "\n",
       "   DiabetesPedigreeFunction  Age  Outcome  \n",
       "0                     0.194   46        0  \n",
       "1                     0.587   68        0  \n",
       "2                     0.268   21        0  \n",
       "3                     0.257   43        1  \n",
       "4                     0.654   22        0  "
      ]
     },
     "execution_count": 1,
     "metadata": {},
     "output_type": "execute_result"
    }
   ],
   "source": [
    "import numpy as np\n",
    "def load(csv_file):\n",
    "    \"\"\"given a CSV file where each row is a data point,\n",
    "    with the last column being the label and the rest being the vector,\n",
    "    return a tuple consisting of two elements:\n",
    "    (1) a matrix where each row is a vector, in the same order as they appear in the file\n",
    "    (2) an array where the ith element is the label of the ith vector above.\n",
    "    \"\"\"\n",
    "    file = np.loadtxt(csv_file, delimiter=',', skiprows = 1) # Hint: Use https://docs.scipy.org/doc/numpy/reference/generated/numpy.loadtxt.html\n",
    "    return np.zeros(1), np.zeros(1)\n",
    "file = load(\"diabetes_training.csv\")\n",
    "file"
   ]
  },
  {
   "cell_type": "markdown",
   "metadata": {},
   "source": [
    "<P>As with any code that you write, it is <em>strongly</em> recommended that you test your code. For example, with your <code>load</code> function above, you might want to invoke the function on one of the diabetes files and print out the dimensions of the returned <code>X</code> and <code>y</code> matrices as well as the first few rows of each. You can then compare this printed out information to the data in the file by opening up the file (e.g., with a spreadsheet program) and viewing the contents of the file.</P>"
   ]
  },
  {
   "cell_type": "markdown",
   "metadata": {},
   "source": [
    "<P>Write a function <code>knn_predict</code> that takes three parameters, a training data matrix, the associated labels for the training data, and a testing data matrix. Using the <em>k</em> nearest neighbors algorithm, the function should return an array containing the predicted labels of each row (in order) for the testing data matrix. The function need only work for <em>k</em>=1 and the Euclidean distance metric (i.e., the L2 norm). While not part of this project, if you want to challenge yourself, implement the function so that it works for different values of <em>k</em> or different distance metrics. You should <font color='red'><em>not</em></font> perform any feature scaling in this task (that will come in Task 4 :).</P>\n",
    "<P>Your function may use <code>numpy</code> functions such as <code>numpy.linalg.norm</code>, which calculates distances, but it may <font color='red'><em>not</em></font> use any functions from <code>sklearn</code>! You may use helper functions as you deem appropriate.\n",
    "</P>"
   ]
  },
  {
   "cell_type": "code",
   "execution_count": null,
   "metadata": {},
   "outputs": [],
   "source": [
    "def knn_predict(trainX, trainy, testX):\n",
    "    \"\"\"predict the labels of the testX data points\n",
    "    using k=1 Nearest Neighbors and Euclidean distance, \n",
    "    and return as a vector of predictions\"\"\"\n",
    "    return np.zeros(testX.shape[0])\n"
   ]
  },
  {
   "cell_type": "markdown",
   "metadata": {},
   "source": [
    "<P>Write a function <code>get_accuracy</code> that takes an array of true labels and an array of predicted labels and returns the relative accuracy, i.e., the percentage of labels in common between the two arrays.</P>"
   ]
  },
  {
   "cell_type": "code",
   "execution_count": null,
   "metadata": {},
   "outputs": [],
   "source": [
    "def get_accuracy(y_true, y_predicted):\n",
    "    \"\"\"returns the fraction of correct predictions in y_predicted compared to y_true\"\"\"\n",
    "    return 0\n"
   ]
  },
  {
   "cell_type": "markdown",
   "metadata": {},
   "source": [
    "<P><font color=\"maroon\"><u>What is the accuracy of your <em>k</em> nearest neighbors algorithm (using <em>k</em>=1 and the Euclidean distance metric) on the diabetes test data?</u></font></P>"
   ]
  },
  {
   "cell_type": "markdown",
   "metadata": {},
   "source": [
    "Report your accuracy here:"
   ]
  },
  {
   "cell_type": "markdown",
   "metadata": {},
   "source": [
    "<H2>Task 3: Hyperparameter tuning with <em>k</em>NN\n",
    "</H2>"
   ]
  },
  {
   "cell_type": "markdown",
   "metadata": {},
   "source": [
    "<P>In this task, you will use the validation data to explore the hyperparameter space of the <em>k</em>NN approach. Above, you implemented your own <em>k</em>NN classification approach. Here, we will use the <code>sklearn</code> <em>k</em>NN classification approach, as it allows setting different distance metrics and different values for <em>k</em>, which your approach may not have done. To start, write a function <code>sklearn_knn_predict</code> that uses <code>sklearn</code>'s <code>KNeighborClassifier</code> to make classification predictions. The function should have five inputs: a set of training data, a set of training labels, a set of evaluation data, a distance metric such as 'euclidean' or 'manhattan', and a value for <em>k</em>. The function should return an array of classification predictions. When creating an <a href=\"http://scikit-learn.org/stable/modules/generated/sklearn.neighbors.KNeighborsClassifier.html\">sklearn.neighbors.KNeighborsClassifer</a> instance, you should provide three inputs: <code>algorithm='brute'</code> uses the same <em>k</em>NN algorithm that you implemented above, <code>metric=distance_metric</code> uses the distance metric provided as input to your <code>sklearn_knn_predict</code> function, and <code>n_neighbors=k</code> uses the value of <em>k</em> provided as input to your <code>sklearn_knn_predict</code> function. You should <font color='red'><em>not</em></font> perform any feature scaling in this task (that will come in Task 4 :).\n",
    "</P>"
   ]
  },
  {
   "cell_type": "code",
   "execution_count": null,
   "metadata": {},
   "outputs": [],
   "source": [
    "from sklearn.neighbors import KNeighborsClassifier\n",
    "def sklearn_knn_predict(trainX, trainy, testX, distance_metric, k):\n",
    "    return np.zeros(testX.shape[0])\n"
   ]
  },
  {
   "cell_type": "markdown",
   "metadata": {},
   "source": [
    "<P><font color=\"maroon\"><u>What is the accuracy of the <code>sklearn</code> <em>k</em> nearest neighbors algorithm (using <em>k</em>=1 and the Euclidean distance metric) on the diabetes test data?</u></font></P>"
   ]
  },
  {
   "cell_type": "markdown",
   "metadata": {},
   "source": [
    "Report your accuracy here:"
   ]
  },
  {
   "cell_type": "markdown",
   "metadata": {},
   "source": [
    "<P>Define a function <code>knn_grid_search</code> that takes as input the training data vectors <code>trainX</code>, the associated training labels <code>trainy</code>, the validation data <code>validationX</code>, the associated validation labels <code>validationy</code>, a list of distance metrics, and list of values for <em>k</em>. For each distance metric and value of <em>k</em>, the function should train a <em>k</em>NN classifier on the training data and test its accuracy on the validation data. It should return a dictionary mapping each <code>(metric, k)</code> tuple such as <code>('euclidean', 3)</code> to the validation accuracy for those two parameters.\n",
    "</P>"
   ]
  },
  {
   "cell_type": "code",
   "execution_count": null,
   "metadata": {},
   "outputs": [],
   "source": [
    "def knn_grid_search(trainX, trainy, validationX, validationy, distance_metric_list, n_neighbors_list):\n",
    "    \"\"\"For each metric in distance_metric_list, and each value k in n_neighbors_list,\n",
    "    trains knn classifiers with those parameters\n",
    "    on the training data and computes the accuracy on the validation data.\n",
    "    Returns a dictionary mapping each value of the hyperparameter pair (metric, k)\n",
    "    to the accuracy with those hyperparameters on the validation data\n",
    "    \"\"\"\n",
    "    return {}\n"
   ]
  },
  {
   "cell_type": "markdown",
   "metadata": {},
   "source": [
    "<P>Consider two distance metrics, 'euclidean' and 'manhattan', and the following ten values for <em>k</em>: 1,3,5,7,9,11,13,15,17,19. For these possible hyperparameter values, print out the distance metric and value for <em>k</em> that correspond to the highest accuracy of the <em>k</em>NN classifier on the validation data. Also, print out the accuracy of the classifier on the <em>test</em> data using this pair of parameters.</P>"
   ]
  },
  {
   "cell_type": "code",
   "execution_count": null,
   "metadata": {},
   "outputs": [],
   "source": [
    "metric, k = 'None', 0\n",
    "validation_accuracy = 0.0\n",
    "print('The best parameters are metric =', metric, 'and k =', k, 'with', validation_accuracy, 'accuracy on the validation data')\n",
    "test_accuracy = 0.0\n",
    "print('Test accuracy:', test_accuracy)"
   ]
  },
  {
   "cell_type": "markdown",
   "metadata": {},
   "source": [
    "<P>As a final step for this task, create a plot containing two line graphs, one corresponding to the accuracy of the <em>k</em>NN approach using different values of <em>k</em> with the <code>euclidean</code> distance metric, and one corresponding to the accuracy of the <em>k</em>NN approach using different values of <em>k</em> with the <code>manhattan</code> distance metric.\n",
    "</P>"
   ]
  },
  {
   "cell_type": "code",
   "execution_count": null,
   "metadata": {},
   "outputs": [],
   "source": [
    "import matplotlib.pyplot as plt\n"
   ]
  },
  {
   "cell_type": "markdown",
   "metadata": {},
   "source": [
    "<P>Your plot of line graphs might looking something like this:<BR>\n",
    "<center><img src=\"kNN.png\"></img></center>"
   ]
  },
  {
   "cell_type": "markdown",
   "metadata": {},
   "source": [
    "<H2>Task 4: Feature Scaling\n",
    "</H2>"
   ]
  },
  {
   "cell_type": "markdown",
   "metadata": {},
   "source": [
    "<P>In the tasks above, you did not perform feature scaling prior to classifying the data.  Here, you will perform feature scaling on the diabetes data before classifying it. Using the <code>fit</code> function of <code>sklearn</code>'s <a href=\"http://scikit-learn.org/stable/modules/generated/sklearn.preprocessing.StandardScaler.html#sklearn.preprocessing.StandardScaler\">preprocessing.StandardScaler</a> class, you can learn the means and standard deviations of the features in the <em>training</em> data. Then, using the <code>transform</code> function on your trained <code>preprocessing.StandardScaler</code> object, you can scale first the <em>training</em> data and then the <em>testing</em> data. \n",
    "</P>"
   ]
  },
  {
   "cell_type": "code",
   "execution_count": null,
   "metadata": {
    "collapsed": true
   },
   "outputs": [],
   "source": [
    "# Fit a preprocessing.StandardScaler object with the diabetes training data.\n",
    "# Then scale (i.e., transform) first the training data and then the testing data.\n",
    "\n",
    "\n",
    "\n"
   ]
  },
  {
   "cell_type": "code",
   "execution_count": null,
   "metadata": {
    "collapsed": true
   },
   "outputs": [],
   "source": [
    "# Train an sklearn KNeighborsClassifier using the scaled training data\n",
    "# and determine its accuracy on the scaled testing data (using k=1 and Euclidean distance).\n",
    "\n",
    "\n",
    "\n",
    "\n",
    "\n",
    "\n"
   ]
  },
  {
   "cell_type": "markdown",
   "metadata": {},
   "source": [
    "<P><font color=\"maroon\"><u>Now that you have performed feature scaling prior to classification, what is the accuracy of the <code>sklearn</code> <em>k</em> nearest neighbors algorithm (using <em>k</em>=1 and the Euclidean distance metric) on the diabetes test data? Is this accuracy better or worse than you found at the beginning of Task 3 when feature scaling was <b>not</b> used?</u></font></P>"
   ]
  },
  {
   "cell_type": "markdown",
   "metadata": {},
   "source": [
    "Report your accuracy here: \n",
    "Better or worse than accuracy in earlier task when feature scaling was not used: "
   ]
  },
  {
   "cell_type": "markdown",
   "metadata": {},
   "source": [
    "<H2>Submitting your work\n",
    "</H2>"
   ]
  },
  {
   "cell_type": "markdown",
   "metadata": {},
   "source": [
    "<P><font color=\"maroon\"><u>Please indicate your name and the names of any partner that worked with you on this project:</u></font></P>"
   ]
  },
  {
   "cell_type": "markdown",
   "metadata": {},
   "source": [
    "Name(s): "
   ]
  },
  {
   "cell_type": "markdown",
   "metadata": {},
   "source": [
    "<P><font color=\"maroon\"><u>Please indicate anyone else that you collaborated with in the process of doing the project:</u></font></P>"
   ]
  },
  {
   "cell_type": "markdown",
   "metadata": {},
   "source": [
    "Collaborators: "
   ]
  },
  {
   "cell_type": "markdown",
   "metadata": {},
   "source": [
    "<P><font color=\"maroon\"><u>If you or your partner is using a late coupon, please indicate who is using the coupon and how many coupons:</u></font></P>"
   ]
  },
  {
   "cell_type": "markdown",
   "metadata": {},
   "source": [
    "Late coupons: "
   ]
  },
  {
   "cell_type": "markdown",
   "metadata": {},
   "source": [
    "<P><font color=\"maroon\"><u>When working on this project, approximately how many hours did you spend on each of (1) Task 1, (2) Task 2, (3) Task 3, (4) Task 4, and (5) Total?</u></font></P>"
   ]
  },
  {
   "cell_type": "markdown",
   "metadata": {},
   "source": [
    "Hours for Task 1: \n",
    "Hours for Task 2: \n",
    "Hours for Task 3: \n",
    "Hours for Task 4: \n",
    "Total Hours: "
   ]
  },
  {
   "cell_type": "markdown",
   "metadata": {},
   "source": [
    "<P><font color=\"maroon\"><u>When working on this project, did you abide by the <a href=\"https://www.wellesley.edu/studentlife/aboutus/honor\">Honor Code</a> and is all of the work that you are submitting your own and/or your partner's?</u></font></P>"
   ]
  },
  {
   "cell_type": "markdown",
   "metadata": {},
   "source": [
    "Abided by Honor Code: "
   ]
  },
  {
   "cell_type": "markdown",
   "metadata": {},
   "source": [
    "<P><font color=\"maroon\"><u>To submit this project, please upload your <code>Project1.ipynb</code> file to the <code>Project1</code> folder that the instructor created and shared with you in your Google drive.</u></font></P>"
   ]
  }
 ],
 "metadata": {
  "kernelspec": {
   "display_name": "Python 3",
   "language": "python",
   "name": "python3"
  },
  "language_info": {
   "codemirror_mode": {
    "name": "ipython",
    "version": 3
   },
   "file_extension": ".py",
   "mimetype": "text/x-python",
   "name": "python",
   "nbconvert_exporter": "python",
   "pygments_lexer": "ipython3",
   "version": "3.6.5"
  }
 },
 "nbformat": 4,
 "nbformat_minor": 2
}
