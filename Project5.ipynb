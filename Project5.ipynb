{
 "cells": [
  {
   "cell_type": "markdown",
   "metadata": {},
   "source": [
    "<H1><center>Project 5<BR><BR>\n",
    "Clustering</center></H1>"
   ]
  },
  {
   "cell_type": "markdown",
   "metadata": {},
   "source": [
    "<H2>Task 1: Accountability\n",
    "</H2>"
   ]
  },
  {
   "cell_type": "markdown",
   "metadata": {},
   "source": [
    "<P>Read <a href=\"https://www.washingtonpost.com/outlook/ai-is-more-powerful-than-ever-how-do-we-hold-it-accountable/2018/03/20/e867b98a-2705-11e8-bc72-077aa4dab9ef_story.html?utm_term=.c68fc972d6f6\">this article</a> about accountability in artificial intelligence and machine learning. Please address (minimum 200 words) the following questions in the space below.</P>\n",
    "\n",
    "<P>As one example, the article considers machine learning in self-driving cars. Would you feel differently if you were injured in an accident caused by a self-driving car as opposed to a car operated by a person? Have you ridden on public roads in a self-driving car? If not, would you be comfortable doing so? </P>\n",
    "\n",
    "<P><em>Interpretable</em>: this article suggests that programmers should design \"accountable\" machine learning systems whose decisions can be interrogated. <em>Fair</em>: previously, we've read about how algorithms might be evaluated for bias to determine if they have comparable performance across different protected classes such as race, gender, age, sexual orientation, and disability status. <em>Accurate</em>: more accurate algorithms may lead, e.g., to greater profit as in the case of a company selling a product or to greater safety as in the case of a self-driving car trying to avoid accidents and human fatalities. Are there machine learning applications where you would prioritize one of these three criteria (interpretable, fair, accurate) over the others? Are there other criteria, in your opinion, that should be part of the conversation about the ethics of designing machine learning algorithms?</P>"
   ]
  },
  {
   "cell_type": "markdown",
   "metadata": {
    "collapsed": true
   },
   "source": [
    "We would feel slightly differently if we were injured in an accident caused by a self-driving car than a person. With a person, most accidents are caused by the human who tend to be distracted by their cell phones or were intoxicated. With self-driving cars, there must have been something small that was wrong with the algorithm, that went undetected after numerous rigorous rounds of prototyping. As a result, we would feel less \"mad\" if it were caused by a self-driving car because they were not trying to cause road problems, whereas distracted humans on the road are purposely putting themselves and others in danger. The intentions are different here. \n",
    "\n",
    "In terms of machine learning applications, we would prioritize accuracy than accountability and fairness. The purpose of self-driving cars, for instance, is to make it easier to roads to be safer from humans who are easily distracted by nature and make it most cost-effective since drivers can be expensive. In this application, it doesn't seem like accountability would be a priority or fairness. The main goal is to design a car that can be as safe as possible, which is accuracy. Although accountability and fairness are crucial with ML applications, they are secondary to accuracy. Getting the job done is the first thing that needs to be done. \n",
    "\n",
    "In terms of criteria for the ethics of desgining ML algorithms, we think it should just prioritize human safety first and then consider other ethical aspects such as fairness. Avoiding accidents and human fatalities should the priority regardless of anything else.\n",
    "\n",
    "\n",
    "\n",
    "\n",
    "\n",
    "\n"
   ]
  },
  {
   "cell_type": "markdown",
   "metadata": {},
   "source": [
    "<H2>Task 2: Hierarchical Clustering\n",
    "</H2>"
   ]
  },
  {
   "cell_type": "markdown",
   "metadata": {},
   "source": [
    "<P>In this task, you will use hierarchical (agglomerative) clustering to cluster a set of data points. To begin read in the data from the file <code>data2.csv</code> and visualize the data with a scatter plot.</P>"
   ]
  },
  {
   "cell_type": "code",
   "execution_count": 38,
   "metadata": {},
   "outputs": [
    {
     "data": {
      "image/png": "[encoded data removed]",
      "text/plain": [
       "<Figure size 432x288 with 1 Axes>"
      ]
     },
     "metadata": {},
     "output_type": "display_data"
    },
    {
     "data": {
      "text/plain": [
       "array([[0.83574156, 0.36862984],\n",
       "       [0.03819641, 0.84806778],\n",
       "       [0.48963879, 0.98940098],\n",
       "       [0.58482956, 0.60927763],\n",
       "       [0.84387292, 0.38643557],\n",
       "       [0.85721321, 0.38652113],\n",
       "       [0.59700108, 0.89759885],\n",
       "       [0.72955904, 0.67708021],\n",
       "       [0.57822167, 0.56892316],\n",
       "       [0.0506645 , 0.95647413],\n",
       "       [0.60122011, 0.64040216],\n",
       "       [0.85697425, 0.36390306],\n",
       "       [0.66311343, 0.66765123],\n",
       "       [0.69022765, 0.69197593],\n",
       "       [0.73260001, 0.83935392],\n",
       "       [0.05776346, 0.9145374 ],\n",
       "       [0.581006  , 0.94191794],\n",
       "       [0.84157965, 0.37429813],\n",
       "       [0.86529032, 0.3898239 ],\n",
       "       [0.65484401, 0.55160568],\n",
       "       [0.54322181, 0.92930146],\n",
       "       [0.58050178, 0.86060184],\n",
       "       [0.12572692, 0.90247069],\n",
       "       [0.61981895, 0.81950538],\n",
       "       [0.57219019, 0.99631866],\n",
       "       [0.0746039 , 0.95668872],\n",
       "       [0.80980289, 0.76169661],\n",
       "       [0.5244402 , 0.89917257],\n",
       "       [0.85839381, 0.37910203],\n",
       "       [0.50613338, 0.95623735],\n",
       "       [0.73672649, 0.80849499],\n",
       "       [0.85815299, 0.35028556],\n",
       "       [0.609593  , 0.93447721],\n",
       "       [0.67732198, 0.61215307],\n",
       "       [0.57240407, 0.87862891],\n",
       "       [0.09047553, 0.90725723],\n",
       "       [0.09535687, 0.98175108],\n",
       "       [0.12315419, 0.90607579],\n",
       "       [0.52567211, 0.9751548 ],\n",
       "       [0.76960757, 0.96898972],\n",
       "       [0.84734927, 0.36084025],\n",
       "       [0.66370444, 0.54777484],\n",
       "       [0.55474688, 0.93034905],\n",
       "       [0.07855344, 0.94998509],\n",
       "       [0.65480195, 0.56992107],\n",
       "       [0.67520615, 0.74062638],\n",
       "       [0.86528203, 0.37116651],\n",
       "       [0.60196471, 0.5895035 ],\n",
       "       [0.86643647, 0.3526022 ],\n",
       "       [0.53224534, 1.00230918],\n",
       "       [0.51475006, 0.93717466],\n",
       "       [0.16021972, 0.97566735],\n",
       "       [0.76869959, 0.61782581],\n",
       "       [0.55856252, 0.91764281],\n",
       "       [0.13330147, 0.87068091],\n",
       "       [0.86347368, 0.38165524],\n",
       "       [0.56510265, 0.95387085],\n",
       "       [0.66550193, 0.55756324],\n",
       "       [0.75117595, 0.81736297],\n",
       "       [0.06349906, 0.8563692 ],\n",
       "       [0.56752665, 0.54409807],\n",
       "       [0.60034563, 0.63530592],\n",
       "       [0.72737005, 0.77686699],\n",
       "       [0.60303753, 0.61846544],\n",
       "       [0.49987994, 0.55502341],\n",
       "       [0.11657798, 0.97593862],\n",
       "       [0.61369283, 0.95550656],\n",
       "       [0.84549591, 0.3621209 ],\n",
       "       [0.53657714, 0.95258452],\n",
       "       [0.86502963, 0.86750766],\n",
       "       [0.86270969, 0.3630536 ],\n",
       "       [0.56135089, 0.9363429 ],\n",
       "       [0.5159109 , 0.56348063],\n",
       "       [0.71463036, 0.84682968],\n",
       "       [0.86073495, 0.75403172],\n",
       "       [0.52328645, 0.97244788],\n",
       "       [0.04861141, 0.93215332],\n",
       "       [0.83830519, 0.3836738 ],\n",
       "       [0.84950571, 0.3725174 ],\n",
       "       [0.55113365, 0.95874999],\n",
       "       [0.6876019 , 0.62540328],\n",
       "       [0.72318989, 0.62845739],\n",
       "       [0.52678493, 0.67534254],\n",
       "       [0.56872254, 0.651656  ],\n",
       "       [0.6206336 , 0.63174659],\n",
       "       [0.84849944, 0.36566271],\n",
       "       [0.63446923, 0.59886342],\n",
       "       [0.72603368, 0.80353856],\n",
       "       [0.86497986, 0.38177905],\n",
       "       [0.09136354, 0.83697012],\n",
       "       [0.52551751, 0.61694858],\n",
       "       [0.85555603, 0.37348252],\n",
       "       [0.00284592, 0.89772124],\n",
       "       [0.63773454, 0.81236974],\n",
       "       [0.81907078, 0.72683149],\n",
       "       [0.71870966, 0.91550569],\n",
       "       [0.74770039, 0.80302044],\n",
       "       [0.82772896, 0.90640151],\n",
       "       [0.63324355, 0.87206885],\n",
       "       [0.55795139, 0.66460093],\n",
       "       [0.64512224, 0.92453392],\n",
       "       [0.5228866 , 0.71922978],\n",
       "       [0.53626614, 0.97614112],\n",
       "       [0.85808279, 0.37007287],\n",
       "       [0.86552782, 0.3781694 ],\n",
       "       [0.7194131 , 0.73125123],\n",
       "       [0.8573879 , 0.38161887],\n",
       "       [0.65921881, 0.94571049],\n",
       "       [0.70070971, 0.79549896],\n",
       "       [0.85966239, 0.37766753],\n",
       "       [0.73615107, 0.70145277],\n",
       "       [0.06636279, 0.88176389],\n",
       "       [0.57892594, 0.96625392],\n",
       "       [0.57261799, 0.95737891],\n",
       "       [0.10986077, 0.88975098],\n",
       "       [0.59320253, 0.97176462],\n",
       "       [0.78105607, 0.77773889],\n",
       "       [0.64129988, 0.57964383],\n",
       "       [0.08292675, 0.95336075],\n",
       "       [0.54035539, 0.89713657],\n",
       "       [0.83989402, 0.36355358],\n",
       "       [0.67630253, 0.86073323],\n",
       "       [0.84701726, 0.75063193],\n",
       "       [0.6901458 , 0.57024553],\n",
       "       [0.12739604, 0.97688431],\n",
       "       [0.68662485, 0.54186767],\n",
       "       [0.70732602, 0.79825765],\n",
       "       [0.53038728, 0.93710091],\n",
       "       [0.85880821, 0.37294566],\n",
       "       [0.87369116, 0.3731572 ],\n",
       "       [0.81420305, 0.79753417],\n",
       "       [0.73384439, 0.83383227],\n",
       "       [0.85217252, 0.37648002],\n",
       "       [0.05355541, 0.94256031],\n",
       "       [0.06992485, 0.9460041 ],\n",
       "       [0.08218093, 0.9214562 ],\n",
       "       [0.10853642, 0.95582048],\n",
       "       [0.64789419, 0.58216855],\n",
       "       [0.60768174, 0.60243242],\n",
       "       [0.16311464, 0.90450091],\n",
       "       [0.59861519, 0.91626258],\n",
       "       [0.5082794 , 0.54819316],\n",
       "       [0.59872443, 0.68083851],\n",
       "       [0.06639674, 0.86036302],\n",
       "       [0.59090063, 1.00317188],\n",
       "       [0.07062255, 0.95614289],\n",
       "       [0.03252343, 0.89387913],\n",
       "       [0.5421803 , 0.97099509],\n",
       "       [0.60215142, 0.56700214],\n",
       "       [0.67914726, 0.55273764],\n",
       "       [0.70146109, 0.69278335],\n",
       "       [0.5173495 , 0.87019515],\n",
       "       [0.5037343 , 0.95386672],\n",
       "       [0.15040209, 0.9083568 ],\n",
       "       [0.5659862 , 1.00003193],\n",
       "       [0.23459215, 0.96753399],\n",
       "       [0.83860357, 0.38306109],\n",
       "       [0.14113668, 0.88310508],\n",
       "       [0.76748438, 0.73438517],\n",
       "       [0.05391053, 0.98665331],\n",
       "       [0.59991306, 0.70402808],\n",
       "       [0.63315496, 0.61379758],\n",
       "       [0.56801455, 0.97069954],\n",
       "       [0.5112371 , 0.9999834 ],\n",
       "       [0.85822648, 0.37041546],\n",
       "       [0.53498473, 0.64985275],\n",
       "       [0.71300181, 0.88307697],\n",
       "       [0.03829979, 0.94917853],\n",
       "       [0.13122569, 0.98673323],\n",
       "       [0.55322993, 0.68294287],\n",
       "       [0.09655137, 0.89648317],\n",
       "       [0.52099017, 0.98737351],\n",
       "       [0.86113354, 0.34806216],\n",
       "       [0.83962805, 0.37566158],\n",
       "       [0.54592695, 1.023384  ],\n",
       "       [0.65479758, 0.48583986],\n",
       "       [0.52320168, 1.04447277],\n",
       "       [0.86033082, 0.37809102],\n",
       "       [0.0263343 , 0.96199421],\n",
       "       [0.80230403, 0.9428813 ],\n",
       "       [0.86763965, 0.38418631],\n",
       "       [0.80193825, 0.76339312],\n",
       "       [0.57530785, 0.93836048],\n",
       "       [0.58123336, 0.62309269],\n",
       "       [0.04280742, 0.90076642],\n",
       "       [0.85145824, 0.37475816],\n",
       "       [0.87886802, 0.78413494],\n",
       "       [0.60019051, 0.63753326],\n",
       "       [0.73255781, 0.84202058],\n",
       "       [0.63228989, 0.60476374],\n",
       "       [0.09267876, 0.8941473 ],\n",
       "       [0.84345648, 0.37512713],\n",
       "       [0.74982516, 0.68785265],\n",
       "       [0.55609027, 0.56131435],\n",
       "       [0.09967418, 0.89852744],\n",
       "       [0.5906032 , 0.56835739],\n",
       "       [0.6139045 , 0.9712481 ],\n",
       "       [0.85914701, 0.36189298],\n",
       "       [0.77869421, 0.82722538],\n",
       "       [0.71523197, 0.81522495],\n",
       "       [0.80375457, 0.79678409],\n",
       "       [0.78142412, 0.80012855],\n",
       "       [0.59612487, 0.94347087],\n",
       "       [0.85908181, 0.35621828],\n",
       "       [0.54121138, 0.91690887],\n",
       "       [0.59884595, 0.61668634],\n",
       "       [0.67642247, 0.86247499],\n",
       "       [0.56037513, 0.96091757],\n",
       "       [0.55045154, 0.99783018],\n",
       "       [0.55020598, 0.98256013],\n",
       "       [0.56218838, 0.6188675 ],\n",
       "       [0.70422418, 0.87487861],\n",
       "       [0.51213273, 0.91697654],\n",
       "       [0.11789404, 0.96854228],\n",
       "       [0.8069393 , 0.77301462],\n",
       "       [0.14725162, 0.97447472],\n",
       "       [0.18301633, 0.91141745],\n",
       "       [0.80119958, 0.73158405],\n",
       "       [0.85325817, 0.39292252],\n",
       "       [0.01925915, 0.95138694],\n",
       "       [0.5657917 , 0.97108763],\n",
       "       [0.64182011, 0.56720066],\n",
       "       [0.09182603, 0.98931919],\n",
       "       [0.07867342, 0.96101671],\n",
       "       [0.84655364, 0.35990666],\n",
       "       [0.70796462, 0.75900515],\n",
       "       [0.77377017, 0.91794462],\n",
       "       [0.87219633, 0.3654694 ],\n",
       "       [0.58511945, 0.61935303],\n",
       "       [0.86812584, 0.37831104],\n",
       "       [0.53476901, 0.97264981],\n",
       "       [0.62785168, 0.82499418],\n",
       "       [0.86009644, 0.38153925],\n",
       "       [0.49992002, 0.6633187 ],\n",
       "       [0.74258528, 0.82293712],\n",
       "       [0.84214128, 0.36821196],\n",
       "       [0.09867599, 0.97914914],\n",
       "       [0.52691027, 0.95228357],\n",
       "       [0.85691531, 0.38039967],\n",
       "       [0.60359712, 0.68074696],\n",
       "       [0.15899573, 0.96581255],\n",
       "       [0.81159531, 0.64444015],\n",
       "       [0.53370434, 0.9989085 ],\n",
       "       [0.63345659, 0.58309388],\n",
       "       [0.62435074, 0.51597782],\n",
       "       [0.71761237, 0.86689023],\n",
       "       [0.13547602, 0.87268695],\n",
       "       [0.84889707, 0.37439581],\n",
       "       [0.07298468, 0.94279324],\n",
       "       [0.09343998, 0.93047056],\n",
       "       [0.57022238, 0.93746348],\n",
       "       [0.17643399, 0.86050718],\n",
       "       [0.5472862 , 0.90589273],\n",
       "       [0.86344277, 0.37713596],\n",
       "       [0.57575378, 0.96713422],\n",
       "       [0.86096181, 0.35878348],\n",
       "       [0.80738229, 0.77211083],\n",
       "       [0.53615461, 0.95428879],\n",
       "       [0.87186821, 0.3674016 ],\n",
       "       [0.84405943, 0.7659503 ],\n",
       "       [0.73503413, 0.70285334],\n",
       "       [0.09324019, 0.92022341],\n",
       "       [0.8740161 , 0.36083314],\n",
       "       [0.5628656 , 0.9739206 ],\n",
       "       [0.10443179, 0.9471632 ],\n",
       "       [0.07714697, 0.92994984],\n",
       "       [0.85865612, 0.38330841],\n",
       "       [0.69653006, 0.88292362],\n",
       "       [0.86792444, 0.35917512],\n",
       "       [0.77606392, 0.77570751],\n",
       "       [0.86195302, 0.37605196],\n",
       "       [0.60982839, 0.59195349],\n",
       "       [0.63238768, 0.65107454],\n",
       "       [0.53430909, 0.93663926],\n",
       "       [0.57805678, 0.90849083],\n",
       "       [0.85088242, 0.37940628],\n",
       "       [0.09679689, 0.9283318 ],\n",
       "       [0.55236953, 1.00468235],\n",
       "       [0.57326542, 0.94681236],\n",
       "       [0.71041567, 0.76966804],\n",
       "       [0.84545355, 0.37964974],\n",
       "       [0.64527164, 0.81679159],\n",
       "       [0.86583776, 0.37897092],\n",
       "       [0.69009596, 0.84996159],\n",
       "       [0.12131405, 0.89720133],\n",
       "       [0.06556543, 0.94793866],\n",
       "       [0.86188562, 0.38046692],\n",
       "       [0.7082133 , 0.65386521],\n",
       "       [0.72590135, 0.56641055],\n",
       "       [0.07973612, 0.87552653],\n",
       "       [0.8478066 , 0.3610145 ],\n",
       "       [0.86111314, 0.37991443],\n",
       "       [0.86814916, 0.38294916],\n",
       "       [0.07815946, 0.95888747],\n",
       "       [0.72648081, 0.86756411],\n",
       "       [0.84533002, 0.36182675],\n",
       "       [0.70015878, 0.88008118],\n",
       "       [0.52072186, 0.94109114],\n",
       "       [0.65979988, 0.53739704],\n",
       "       [0.11688218, 0.97292381]])"
      ]
     },
     "execution_count": 38,
     "metadata": {},
     "output_type": "execute_result"
    }
   ],
   "source": [
    "# Read in data from data2.csv and create scatter plot\n",
    "import numpy as np\n",
    "import matplotlib.pyplot as plt\n",
    "\n",
    "DATA = np.loadtxt('data2.csv', delimiter=',')\n",
    "X = DATA[:,0]\n",
    "y = DATA[:,1]\n",
    "plt.scatter(X, y, s=40, edgecolor='k')\n",
    "\n",
    "plt.xticks([])\n",
    "plt.yticks([])\n",
    "plt.show()\n",
    "DATA"
   ]
  },
  {
   "cell_type": "markdown",
   "metadata": {},
   "source": [
    "<P>You will code your own version of hierarchical clustering by implementing seven functions as described below. You are free to implement the functions however you like, but concise code is encouraged. Each function can be implemented with between 1 and 10 lines of code. For each function, we suggest possible helper functions that might be useful, but these are merely suggestions and you needn't follow them.</P>"
   ]
  },
  {
   "cell_type": "markdown",
   "metadata": {},
   "source": [
    "<P><OL start=1><LI>Write a function <code><font color=\"blue\">assignEachPointToItsOwnCluster</font></code>. The function takes one argument as input corresponding to a two-dimensional array (matrix) of data points, where each row corresponds to a data point and each column corresponds to a feature. The function assigns to each data point a unique integer corresponding to that data point's cluster. If there are <em>n</em> data points, each data point should be assigned a unique integer from the range [0,<em>n</em>-1]. An array of the cluster assignments should be returned.</LI></OL></P>\n",
    "<P>Suggested helper functions: <a href=\"https://docs.scipy.org/doc/numpy/reference/generated/numpy.arange.html\"><code><font color=\"maroon\">numpy.arange</font></code></a></P>\n",
    "<P>Example: <code><font color=\"green\">print(assignEachPointToItsOwnCluster(np.array([[8,1], [6,6], [2,7], [6,5]])))</font></code> might output <code><font color=\"red\">[0 1 2 3]</font></code></P>"
   ]
  },
  {
   "cell_type": "code",
   "execution_count": 39,
   "metadata": {},
   "outputs": [
    {
     "name": "stdout",
     "output_type": "stream",
     "text": [
      "[  0.   1.   2.   3.   4.   5.   6.   7.   8.   9.  10.  11.  12.  13.\n",
      "  14.  15.  16.  17.  18.  19.  20.  21.  22.  23.  24.  25.  26.  27.\n",
      "  28.  29.  30.  31.  32.  33.  34.  35.  36.  37.  38.  39.  40.  41.\n",
      "  42.  43.  44.  45.  46.  47.  48.  49.  50.  51.  52.  53.  54.  55.\n",
      "  56.  57.  58.  59.  60.  61.  62.  63.  64.  65.  66.  67.  68.  69.\n",
      "  70.  71.  72.  73.  74.  75.  76.  77.  78.  79.  80.  81.  82.  83.\n",
      "  84.  85.  86.  87.  88.  89.  90.  91.  92.  93.  94.  95.  96.  97.\n",
      "  98.  99. 100. 101. 102. 103. 104. 105. 106. 107. 108. 109. 110. 111.\n",
      " 112. 113. 114. 115. 116. 117. 118. 119. 120. 121. 122. 123. 124. 125.\n",
      " 126. 127. 128. 129. 130. 131. 132. 133. 134. 135. 136. 137. 138. 139.\n",
      " 140. 141. 142. 143. 144. 145. 146. 147. 148. 149. 150. 151. 152. 153.\n",
      " 154. 155. 156. 157. 158. 159. 160. 161. 162. 163. 164. 165. 166. 167.\n",
      " 168. 169. 170. 171. 172. 173. 174. 175. 176. 177. 178. 179. 180. 181.\n",
      " 182. 183. 184. 185. 186. 187. 188. 189. 190. 191. 192. 193. 194. 195.\n",
      " 196. 197. 198. 199. 200. 201. 202. 203. 204. 205. 206. 207. 208. 209.\n",
      " 210. 211. 212. 213. 214. 215. 216. 217. 218. 219. 220. 221. 222. 223.\n",
      " 224. 225. 226. 227. 228. 229. 230. 231. 232. 233. 234. 235. 236. 237.\n",
      " 238. 239. 240. 241. 242. 243. 244. 245. 246. 247. 248. 249. 250. 251.\n",
      " 252. 253. 254. 255. 256. 257. 258. 259. 260. 261. 262. 263. 264. 265.\n",
      " 266. 267. 268. 269. 270. 271. 272. 273. 274. 275. 276. 277. 278. 279.\n",
      " 280. 281. 282. 283. 284. 285. 286. 287. 288. 289. 290. 291. 292. 293.\n",
      " 294. 295. 296. 297. 298. 299.]\n"
     ]
    }
   ],
   "source": [
    "# Your assignEachPointToItsOwnCluster function here\n",
    "\n",
    "\n",
    "def assignEachPointToItsOwnCluster(matrix):\n",
    "    \n",
    "    rowLen = len(matrix[:])\n",
    "    cluster = np.zeros(rowLen)\n",
    "    clusterNum = 0\n",
    "\n",
    "    for row in range(len(matrix)):\n",
    "        cluster[row] = clusterNum\n",
    "        clusterNum = clusterNum + 1\n",
    "    return cluster\n",
    "    \n",
    "#     cluster = {}\n",
    "#     clusterNum = 0\n",
    "#     #each row is data point\n",
    "#     #each column is feature\n",
    "#     rowLen = len(matrix[:])\n",
    "#     for row in range(len(matrix)):\n",
    "# #         np.arange[0, rowLen-1]\n",
    "#         cluster[row]= clusterNum\n",
    "#         clusterNum = clusterNum + 1\n",
    "#     return cluster.values\n",
    "\n",
    "print(assignEachPointToItsOwnCluster(DATA))"
   ]
  },
  {
   "cell_type": "markdown",
   "metadata": {},
   "source": [
    "<P><OL start=2><LI>Write a function <code><font color=\"blue\">calculateMeans</font></code>. The function takes three arguments as input corresponding to a two-dimensional array (matrix) of data points, an array of cluster assignments, and the number of clusters. The function computes the mean of each cluster and returns an array of the cluster means.</LI></OL></P>\n",
    "<P>Suggested helper functions: <a href=\"https://docs.scipy.org/doc/numpy/reference/generated/numpy.zeros.html\"><code><font color=\"maroon\">numpy.zeros</font></code></a>, <a href=\"https://docs.scipy.org/doc/numpy/reference/generated/numpy.mean.html\"><code><font color=\"maroon\">numpy.mean</font></code></a></P>\n",
    "<P>Example: <code><font color=\"green\">print(calculateMeans(np.array([[8,1], [6,6], [2,7], [6,5]]), np.array([0, 1, 1, 0]), 2))</font></code> might output <code><font color=\"red\">[[ 7.   3. ], [ 4.   6.5]]</font></code></P>"
   ]
  },
  {
   "cell_type": "code",
   "execution_count": 40,
   "metadata": {},
   "outputs": [
    {
     "name": "stdout",
     "output_type": "stream",
     "text": [
      "{0: [7.0, 3.0], 1: [4.0, 6.5]}\n"
     ]
    }
   ],
   "source": [
    "# Your calculateMeans function here\n",
    "\n",
    "def calculateMeans(matrix, cluster_assignment, num_clusters):\n",
    "    newCluster = np.zeros(num_clusters)\n",
    "    newDict = {} \n",
    "    for i in range(len(matrix)):\n",
    "        c = cluster_assignment[i]\n",
    "        if c not in newDict:\n",
    "            newDict[c] = [matrix[i]] \n",
    "        else: \n",
    "            newDict[c].append(matrix[i])\n",
    "#     print (newDict)\n",
    "    for entry in newDict: # each c assignment\n",
    "        x = 0\n",
    "        y = 0\n",
    "        for pair in newDict[entry]:\n",
    "#             print(pair)\n",
    "            x = x + pair[0]\n",
    "            y = y + pair[1]\n",
    "#             print(x,y)\n",
    "        entrylen = len(newDict[entry]) #length of num pairs in values array\n",
    "        mean_x = x/entrylen\n",
    "        mean_y = y/entrylen\n",
    "        newDict[entry] = [mean_x, mean_y]\n",
    "    \n",
    "    return(newDict) \n",
    "\n",
    "print(calculateMeans(np.array([[8,1], [6,6], [2,7], [6,5]]), np.array([0, 1, 1, 0]), 2))  "
   ]
  },
  {
   "cell_type": "markdown",
   "metadata": {},
   "source": [
    "# <P><OL start=3><LI>Write a function <code><font color=\"blue\">getClusterDistances</font></code>. The function takes one argument as input corresponding to a two-dimensional array (matrix) of cluster means. The function computes the distance between all pairs of means. Thus, if there are <em>k</em> means, the function computes <em>k</em><sup>2</sup> distances. The distances are returned as a <em>k</em>&times;<em>k</em> array. Normally, the distance between a mean and itself is zero. However, in this function, the distance between a mean and itself is set to be a value at least as large as the maximum of all <em>k</em><sup>2</sup> pairwise distances. Using loops will cause the function to execute slowly... for efficient implementation, loops should be avoided.</LI></OL></P>\n",
    "<P>Suggested helper functions: <a href=\"http://scikit-learn.org/stable/modules/generated/sklearn.metrics.pairwise.pairwise_distances.html\"><code><font color=\"maroon\">sklearn.metrics.pairwise.pairwise_distances</font></code></a>, <a href=\"https://docs.scipy.org/doc/numpy/reference/generated/numpy.amax.html\"><code><font color=\"maroon\">numpy.amax</font></code></a>, <a href=\"https://docs.scipy.org/doc/numpy/reference/generated/numpy.identity.html\"><code><font color=\"maroon\">numpy.identity</font></code></a></P>\n",
    "<P>Example: <code><font color=\"green\">print(getClusterDistances(np.array([[8,1], [6,6], [2,7], [6,5]])))</font></code> might output <code><font color=\"red\">[[ 8.5   5.4   8.5   4.5 ], [ 5.4   8.5   4.1   1. ], [ 8.5   4.1   8.5   4.5 ], [ 4.5   1.   4.5   8.5 ]]</font></code></P>"
   ]
  },
  {
   "cell_type": "code",
   "execution_count": 41,
   "metadata": {},
   "outputs": [
    {
     "name": "stdout",
     "output_type": "stream",
     "text": [
      "[[0.         5.38516481 8.48528137 4.47213595]\n",
      " [5.38516481 0.         4.12310563 1.        ]\n",
      " [8.48528137 4.12310563 0.         4.47213595]\n",
      " [4.47213595 1.         4.47213595 0.        ]]\n"
     ]
    }
   ],
   "source": [
    "# Your getClusterDistances function here\n",
    "from sklearn.metrics import pairwise_distances\n",
    "\n",
    "def getClusterDistances(matrix):\n",
    "    distances = pairwise_distances(matrix)\n",
    "    return distances\n",
    "\n",
    "print(getClusterDistances(np.array([[8,1], [6,6], [2,7], [6,5]])))"
   ]
  },
  {
   "cell_type": "markdown",
   "metadata": {},
   "source": [
    "<P><OL start=4><LI>Write a function <code><font color=\"blue\">getMinIndices</font></code>. The function takes one argument as input corresponding to a two-dimensional array (matrix) of values. The function computes and returns the row index and the column index of the minimum value in the input array.</LI></OL></P>\n",
    "<P>Suggested helper functions: <a href=\"https://docs.scipy.org/doc/numpy/reference/generated/numpy.argmin.html\"><code><font color=\"maroon\">numpy.argmin</font></code></a></P>\n",
    "<P>Example: <code><font color=\"green\">print(getMinIndices(np.array([[9, 5, 1], [2, 8, 5], [6, 4, 6]])))</font></code> might output <code><font color=\"red\">(0, 2)</font></code>, <code><font color=\"green\">print(getMinIndices(np.array([[2.9, 2.6, 3.5], [1.1, 1.0, 0.9], [3.3, 0.4, 1.9]])))</font></code> might output <code><font color=\"red\">(2, 1)</font></code></P>"
   ]
  },
  {
   "cell_type": "code",
   "execution_count": 42,
   "metadata": {},
   "outputs": [
    {
     "name": "stdout",
     "output_type": "stream",
     "text": [
      "(0, 2)\n",
      "(2, 1)\n"
     ]
    }
   ],
   "source": [
    "# Your getMinIndices function here\n",
    "# returns the min row index and min col index of hte min value in the input array\n",
    "\n",
    "def getMinIndices(matrix):\n",
    "    return np.unravel_index(matrix.argmin(), matrix.shape)\n",
    "        \n",
    "#     x = np.argmin(matrix, axis = 0)\n",
    "#     y = np.argmin(matrix, axis = 1)\n",
    "#     nrow = matrix.shape[0]\n",
    "#     ncol = matrix.shape[1]\n",
    "#     return x/nrow, y/ncol\n",
    "\n",
    "print(getMinIndices(np.array([[9, 5, 1], [2, 8, 5], [6, 4, 6]])))\n",
    "print(getMinIndices(np.array([[2.9, 2.6, 3.5], [1.1, 1.0, 0.9], [3.3, 0.4, 1.9]])))"
   ]
  },
  {
   "cell_type": "markdown",
   "metadata": {},
   "source": [
    "<P><OL start=5><LI>Write a function <code><font color=\"blue\">mergeTwoClusters</font></code>. The function takes four arguments as input corresponding to an array of cluster assignments, the total number of clusters, a first cluster label, and a second cluster label. The function merges together two clusters, i.e., assigns points in two clusters to have the same cluster label. The function takes the cluster assignments of all data points as specified by the first input argument and merges together all points with a cluster assignment specified by either the third or fourth input argument so that these points have the same cluster label. An array with the merged cluster assignments is returned. If the first array argument contains assignments of <em>n</em> points each to one of <em>k</em> different clusters, then the returned array should contain assignments of <em>n</em> points each to one of <em>k</em>-1 different clusters. If the cluster labels in the first argument array correspond to integers in the range 0 to <em>k</em>-1 where <em>k</em> is the number of clusters specified by the second argument, then the cluster labels in the returned array should correspond to integers in the range 0 to <em>k</em>-2. The value of cluster labels may change between the first argument input array and the returned array, e.g., points labeled as belonging to cluster 3 in the input array may be labeled as belonging to cluster 1 in the returned array.</LI></OL></P>\n",
    "<P>Suggested helper functions: None</P>\n",
    "<P>Example: <code><font color=\"green\">print(mergeTwoClusters(np.array([0,1,2,3,4,5,6,7,8,9]), 10, 1, 6))</font></code> might output <code><font color=\"red\">[0 1 2 3 4 5 1 7 8 6]</font></code>, <code><font color=\"green\">print(mergeTwoClusters(np.array([3,0,1,3,2,4,1,4]), 5, 3, 2))</font></code> might output <code><font color=\"red\">[3 0 1 3 3 2 1 2]</font></code>, <code><font color=\"green\">print(mergeTwoClusters(np.array([3,0,1,3,3,2,1,2]), 4, 2, 3))</font></code> might output <code><font color=\"red\">[2 0 1 2 2 2 1 2]</font></code></P>"
   ]
  },
  {
   "cell_type": "code",
   "execution_count": 43,
   "metadata": {},
   "outputs": [
    {
     "name": "stdout",
     "output_type": "stream",
     "text": [
      "[0 1 2 3 4 5 6 7 8 9]\n",
      "[3 0 1 3 2 4 1 4]\n",
      "[3 0 1 3 3 2 1 2]\n"
     ]
    }
   ],
   "source": [
    "# Your mergeTwoClusters function here\n",
    "# in order to decrease cluster numbers by 1, we want to assign one of the two clusters to have the same label\n",
    "\n",
    "def mergeTwoClusters(cluster_assignments, n_clusters, first, second):\n",
    "    for c in cluster_assignments: # we know c will always be less than n_clusters\n",
    "        if (c == second):\n",
    "            c = first\n",
    "        elif (len(cluster_assignments) == n_clusters - 1):\n",
    "            c = second\n",
    "#         else (c == n_clusters - 2):\n",
    "        else:\n",
    "            c = second\n",
    "    return cluster_assignments\n",
    "\n",
    "print(mergeTwoClusters(np.array([0,1,2,3,4,5,6,7,8,9]), 10, 1, 6)) \n",
    "print(mergeTwoClusters(np.array([3,0,1,3,2,4,1,4]), 5, 3, 2)) \n",
    "print(mergeTwoClusters(np.array([3,0,1,3,3,2,1,2]), 4, 2, 3)) "
   ]
  },
  {
   "cell_type": "markdown",
   "metadata": {},
   "source": [
    "<P><OL start=6><LI>Write a function <code><font color=\"blue\">getClusteringCost</font></code>. The function takes three arguments as input corresponding to a two-dimensional array (matrix) of data points, an array of means, and an array of cluster assignments. The function computes and returns the cost of the clustering, i.e., the sum of squared distances of data points to their closest cluster mean.</LI></OL></P>\n",
    "<P>Suggested helper functions: <a href=\"https://docs.scipy.org/doc/numpy/reference/generated/numpy.sum.html\"><code><font color=\"maroon\">numpy.sum</font></code></a></P>\n",
    "<P>Example: <code><font color=\"green\">print(getClusteringCost(np.array([[2,2], [9,7], [6,8], [3,1]]), np.array([[1,4], [8,8]]), np.array([0, 1, 1, 0])))</font></code> might output <code><font color=\"red\">24.0</font></code></P>"
   ]
  },
  {
   "cell_type": "code",
   "execution_count": 44,
   "metadata": {},
   "outputs": [
    {
     "name": "stdout",
     "output_type": "stream",
     "text": [
      "24\n"
     ]
    }
   ],
   "source": [
    "# Your getClusteringCost function here\n",
    "# iterating thru pairwise resulting matrix, if 0 change to max elt\n",
    "\n",
    "def getClusteringCost(matrix, means_array, cluster_assignments):\n",
    "    cost = []\n",
    "    for i in range(len(matrix)):\n",
    "        clusterMean = means_array[cluster_assignments[i]]\n",
    "        cost.append((matrix[i][0] - clusterMean[0])**2 + (matrix[i][1] - clusterMean[1])**2)\n",
    "    return np.sum(cost)\n",
    "\n",
    "print(getClusteringCost(np.array([[2,2], [9,7], [6,8], [3,1]]), np.array([[1,4], [8,8]]), np.array([0, 1, 1, 0]))) "
   ]
  },
  {
   "cell_type": "markdown",
   "metadata": {},
   "source": [
    "<P><OL start=7><LI>Write a function <code><font color=\"blue\">hierarchical</font></code>. The function takes two arguments as input corresponding to a two-dimensional array (matrix) of data points and a desired number of clusters. The function clusters the data points into the specified number of clusters using hierarchical clustering. The function returns two objects, an array of cluster assignments indicating the cluster of each data point and the cost of the clustering (where the cost is the sum of squared distances of data points to their closest cluster mean).</LI></OL></P>\n",
    "<P>Suggested helper functions: <code><font color=\"maroon\">assignEachPointToItsOwnCluster</font></code>, <code><font color=\"maroon\">calculateMeans</font></code>, <code><font color=\"maroon\">getClusterDistances</font></code>, <code><font color=\"maroon\">getMinIndices</font></code>, <code><font color=\"maroon\">mergeTwoClusters</font></code>, <code><font color=\"maroon\">getClusteringCost</font></code></P>\n",
    "<P>Example: <code><font color=\"green\">print(hierarchical(np.array([5, 5, 5, 24, 24, 24, 24]).reshape(-1,1), 2))</font></code> might output <code><font color=\"red\">(array([0, 0, 0, 1, 1, 1, 1]), 0.0)</font></code>, <code><font color=\"green\">print(hierarchical(np.array([6, 23, 22, 5, 24, 7, 25]).reshape(-1,1), 2))</font></code> might output <code><font color=\"red\">(array([0, 1, 1, 0, 1, 0, 1]), 7.0)</font></code>, <code><font color=\"green\">print(hierarchical(np.array([21, 55, 26, 8, 51, 59, 4, 22]).reshape(-1,1), 3))</font></code> might output <code><font color=\"red\">(array([0, 1, 0, 2, 1, 1, 2, 0]), 54.0)</font></code>, <code><font color=\"green\">print(hierarchical(np.array([[9,8,9], [1,5,4], [7,7,7], [0,2,6], [3,9,3], [8,2,4]]), 3))</font></code> might output <code><font color=\"red\">(array([0, 1, 0, 1, 1, 2]), 38.5)</font></code></P>"
   ]
  },
  {
   "cell_type": "code",
   "execution_count": 45,
   "metadata": {},
   "outputs": [
    {
     "ename": "TypeError",
     "evalue": "'numpy.float64' object cannot be interpreted as an integer",
     "output_type": "error",
     "traceback": [
      "\u001b[0;31m---------------------------------------------------------------------------\u001b[0m",
      "\u001b[0;31mTypeError\u001b[0m                                 Traceback (most recent call last)",
      "\u001b[0;32m<ipython-input-45-1005a5122173>\u001b[0m in \u001b[0;36m<module>\u001b[0;34m()\u001b[0m\n\u001b[1;32m     25\u001b[0m     \u001b[0;32mreturn\u001b[0m \u001b[0mcluster_assigns\u001b[0m\u001b[0;34m,\u001b[0m \u001b[0mcost\u001b[0m\u001b[0;34m\u001b[0m\u001b[0m\n\u001b[1;32m     26\u001b[0m \u001b[0;34m\u001b[0m\u001b[0m\n\u001b[0;32m---> 27\u001b[0;31m \u001b[0mprint\u001b[0m\u001b[0;34m(\u001b[0m\u001b[0mhierarchical\u001b[0m\u001b[0;34m(\u001b[0m\u001b[0mnp\u001b[0m\u001b[0;34m.\u001b[0m\u001b[0marray\u001b[0m\u001b[0;34m(\u001b[0m\u001b[0;34m[\u001b[0m\u001b[0;36m5\u001b[0m\u001b[0;34m,\u001b[0m \u001b[0;36m5\u001b[0m\u001b[0;34m,\u001b[0m \u001b[0;36m5\u001b[0m\u001b[0;34m,\u001b[0m \u001b[0;36m24\u001b[0m\u001b[0;34m,\u001b[0m \u001b[0;36m24\u001b[0m\u001b[0;34m,\u001b[0m \u001b[0;36m24\u001b[0m\u001b[0;34m,\u001b[0m \u001b[0;36m24\u001b[0m\u001b[0;34m]\u001b[0m\u001b[0;34m)\u001b[0m\u001b[0;34m.\u001b[0m\u001b[0mreshape\u001b[0m\u001b[0;34m(\u001b[0m\u001b[0;34m-\u001b[0m\u001b[0;36m1\u001b[0m\u001b[0;34m,\u001b[0m\u001b[0;36m1\u001b[0m\u001b[0;34m)\u001b[0m\u001b[0;34m,\u001b[0m \u001b[0;36m2\u001b[0m\u001b[0;34m)\u001b[0m\u001b[0;34m)\u001b[0m\u001b[0;34m\u001b[0m\u001b[0m\n\u001b[0m\u001b[1;32m     28\u001b[0m \u001b[0mprint\u001b[0m\u001b[0;34m(\u001b[0m\u001b[0mhierarchical\u001b[0m\u001b[0;34m(\u001b[0m\u001b[0mnp\u001b[0m\u001b[0;34m.\u001b[0m\u001b[0marray\u001b[0m\u001b[0;34m(\u001b[0m\u001b[0;34m[\u001b[0m\u001b[0;36m6\u001b[0m\u001b[0;34m,\u001b[0m \u001b[0;36m23\u001b[0m\u001b[0;34m,\u001b[0m \u001b[0;36m22\u001b[0m\u001b[0;34m,\u001b[0m \u001b[0;36m5\u001b[0m\u001b[0;34m,\u001b[0m \u001b[0;36m24\u001b[0m\u001b[0;34m,\u001b[0m \u001b[0;36m7\u001b[0m\u001b[0;34m,\u001b[0m \u001b[0;36m25\u001b[0m\u001b[0;34m]\u001b[0m\u001b[0;34m)\u001b[0m\u001b[0;34m.\u001b[0m\u001b[0mreshape\u001b[0m\u001b[0;34m(\u001b[0m\u001b[0;34m-\u001b[0m\u001b[0;36m1\u001b[0m\u001b[0;34m,\u001b[0m\u001b[0;36m1\u001b[0m\u001b[0;34m)\u001b[0m\u001b[0;34m,\u001b[0m \u001b[0;36m2\u001b[0m\u001b[0;34m)\u001b[0m\u001b[0;34m)\u001b[0m\u001b[0;34m\u001b[0m\u001b[0m\n\u001b[1;32m     29\u001b[0m \u001b[0mprint\u001b[0m\u001b[0;34m(\u001b[0m\u001b[0mhierarchical\u001b[0m\u001b[0;34m(\u001b[0m\u001b[0mnp\u001b[0m\u001b[0;34m.\u001b[0m\u001b[0marray\u001b[0m\u001b[0;34m(\u001b[0m\u001b[0;34m[\u001b[0m\u001b[0;36m21\u001b[0m\u001b[0;34m,\u001b[0m \u001b[0;36m55\u001b[0m\u001b[0;34m,\u001b[0m \u001b[0;36m26\u001b[0m\u001b[0;34m,\u001b[0m \u001b[0;36m8\u001b[0m\u001b[0;34m,\u001b[0m \u001b[0;36m51\u001b[0m\u001b[0;34m,\u001b[0m \u001b[0;36m59\u001b[0m\u001b[0;34m,\u001b[0m \u001b[0;36m4\u001b[0m\u001b[0;34m,\u001b[0m \u001b[0;36m22\u001b[0m\u001b[0;34m]\u001b[0m\u001b[0;34m)\u001b[0m\u001b[0;34m.\u001b[0m\u001b[0mreshape\u001b[0m\u001b[0;34m(\u001b[0m\u001b[0;34m-\u001b[0m\u001b[0;36m1\u001b[0m\u001b[0;34m,\u001b[0m\u001b[0;36m1\u001b[0m\u001b[0;34m)\u001b[0m\u001b[0;34m,\u001b[0m \u001b[0;36m3\u001b[0m\u001b[0;34m)\u001b[0m\u001b[0;34m)\u001b[0m\u001b[0;34m\u001b[0m\u001b[0m\n",
      "\u001b[0;32m<ipython-input-45-1005a5122173>\u001b[0m in \u001b[0;36mhierarchical\u001b[0;34m(matrix, n_clusters)\u001b[0m\n\u001b[1;32m     10\u001b[0m     \u001b[0mc_clusters\u001b[0m \u001b[0;34m=\u001b[0m \u001b[0;34m(\u001b[0m\u001b[0mlist\u001b[0m\u001b[0;34m(\u001b[0m\u001b[0mcluster_set\u001b[0m\u001b[0;34m)\u001b[0m\u001b[0;34m)\u001b[0m\u001b[0;34m\u001b[0m\u001b[0m\n\u001b[1;32m     11\u001b[0m \u001b[0;34m\u001b[0m\u001b[0m\n\u001b[0;32m---> 12\u001b[0;31m     \u001b[0mmeans_array\u001b[0m \u001b[0;34m=\u001b[0m \u001b[0mcalculateMeans\u001b[0m\u001b[0;34m(\u001b[0m\u001b[0mmatrix\u001b[0m\u001b[0;34m,\u001b[0m \u001b[0mcluster_assigns\u001b[0m\u001b[0;34m,\u001b[0m \u001b[0mc_clusters\u001b[0m\u001b[0;34m)\u001b[0m\u001b[0;34m\u001b[0m\u001b[0m\n\u001b[0m\u001b[1;32m     13\u001b[0m     \u001b[0mcost\u001b[0m \u001b[0;34m=\u001b[0m \u001b[0mgetClusteringCost\u001b[0m\u001b[0;34m(\u001b[0m\u001b[0mmatrix\u001b[0m\u001b[0;34m,\u001b[0m \u001b[0mmeans_array\u001b[0m\u001b[0;34m,\u001b[0m \u001b[0mcluster_assignments\u001b[0m\u001b[0;34m)\u001b[0m\u001b[0;34m\u001b[0m\u001b[0m\n\u001b[1;32m     14\u001b[0m \u001b[0;34m\u001b[0m\u001b[0m\n",
      "\u001b[0;32m<ipython-input-40-03f6d3fe3895>\u001b[0m in \u001b[0;36mcalculateMeans\u001b[0;34m(matrix, cluster_assignment, num_clusters)\u001b[0m\n\u001b[1;32m      2\u001b[0m \u001b[0;34m\u001b[0m\u001b[0m\n\u001b[1;32m      3\u001b[0m \u001b[0;32mdef\u001b[0m \u001b[0mcalculateMeans\u001b[0m\u001b[0;34m(\u001b[0m\u001b[0mmatrix\u001b[0m\u001b[0;34m,\u001b[0m \u001b[0mcluster_assignment\u001b[0m\u001b[0;34m,\u001b[0m \u001b[0mnum_clusters\u001b[0m\u001b[0;34m)\u001b[0m\u001b[0;34m:\u001b[0m\u001b[0;34m\u001b[0m\u001b[0m\n\u001b[0;32m----> 4\u001b[0;31m     \u001b[0mnewCluster\u001b[0m \u001b[0;34m=\u001b[0m \u001b[0mnp\u001b[0m\u001b[0;34m.\u001b[0m\u001b[0mzeros\u001b[0m\u001b[0;34m(\u001b[0m\u001b[0mnum_clusters\u001b[0m\u001b[0;34m)\u001b[0m\u001b[0;34m\u001b[0m\u001b[0m\n\u001b[0m\u001b[1;32m      5\u001b[0m     \u001b[0mnewDict\u001b[0m \u001b[0;34m=\u001b[0m \u001b[0;34m{\u001b[0m\u001b[0;34m}\u001b[0m\u001b[0;34m\u001b[0m\u001b[0m\n\u001b[1;32m      6\u001b[0m     \u001b[0;32mfor\u001b[0m \u001b[0mi\u001b[0m \u001b[0;32min\u001b[0m \u001b[0mrange\u001b[0m\u001b[0;34m(\u001b[0m\u001b[0mlen\u001b[0m\u001b[0;34m(\u001b[0m\u001b[0mmatrix\u001b[0m\u001b[0;34m)\u001b[0m\u001b[0;34m)\u001b[0m\u001b[0;34m:\u001b[0m\u001b[0;34m\u001b[0m\u001b[0m\n",
      "\u001b[0;31mTypeError\u001b[0m: 'numpy.float64' object cannot be interpreted as an integer"
     ]
    }
   ],
   "source": [
    "# Your hierarchical function here\n",
    "# Your hierarchical function here\n",
    "\n",
    "def hierarchical(matrix, n_clusters):\n",
    "    \n",
    "    cluster_assigns = assignEachPointToItsOwnCluster(matrix)\n",
    "      \n",
    "    #get only unique cluster assignments for c_cluster current num\n",
    "    cluster_set = set(cluster_assigns) \n",
    "    c_clusters = (list(cluster_set))\n",
    "    \n",
    "    means_array = calculateMeans(matrix, cluster_assigns, c_clusters)\n",
    "    cost = getClusteringCost(matrix, means_array, cluster_assignments)\n",
    "    \n",
    "    i = range(len(c_clusters))\n",
    "    \n",
    "    while(i > n_clusters):\n",
    "        first = cluster_assigns[0]\n",
    "        second = cluster_assigns[1]\n",
    "        cluster_assigns = mergeTwoClusters(cluster_assigns, c_clusters, first, second)\n",
    "        i = i - 1\n",
    "        distance = getClusterDistances(matrix)\n",
    "        min_indices = getMinIndices(matrix)\n",
    "\n",
    "    return cluster_assigns, cost\n",
    "\n",
    "print(hierarchical(np.array([5, 5, 5, 24, 24, 24, 24]).reshape(-1,1), 2))\n",
    "print(hierarchical(np.array([6, 23, 22, 5, 24, 7, 25]).reshape(-1,1), 2))\n",
    "print(hierarchical(np.array([21, 55, 26, 8, 51, 59, 4, 22]).reshape(-1,1), 3))\n",
    "print(hierarchical(np.array([[9,8,9], [1,5,4], [7,7,7], [0,2,6], [3,9,3], [8,2,4]]), 3))"
   ]
  },
  {
   "cell_type": "markdown",
   "metadata": {},
   "source": [
    "<P>Now that you have implemented your own hierarchical clustering algorithm, as a final step for this task, execute your hierarchical clustering algorithm on the data from <code>data2.csv</code>. You should cluster the data into 5 clusters. Generate a scatter plot of the data from <code>data2.csv</code> and color each of the points based on its cluster assignment, i.e., all the points in a given cluster should have the same color as each other and should have a different color than points in other clusters.</P>"
   ]
  },
  {
   "cell_type": "code",
   "execution_count": 46,
   "metadata": {},
   "outputs": [
    {
     "ename": "TypeError",
     "evalue": "hierarchical() takes 2 positional arguments but 4 were given",
     "output_type": "error",
     "traceback": [
      "\u001b[0;31m---------------------------------------------------------------------------\u001b[0m",
      "\u001b[0;31mTypeError\u001b[0m                                 Traceback (most recent call last)",
      "\u001b[0;32m<ipython-input-46-2cf6b607012d>\u001b[0m in \u001b[0;36m<module>\u001b[0;34m()\u001b[0m\n\u001b[1;32m      4\u001b[0m \u001b[0;31m# plot the data as a scatter plot with points colored based on their cluster assignment\u001b[0m\u001b[0;34m\u001b[0m\u001b[0;34m\u001b[0m\u001b[0m\n\u001b[1;32m      5\u001b[0m \u001b[0;34m\u001b[0m\u001b[0m\n\u001b[0;32m----> 6\u001b[0;31m \u001b[0mresults\u001b[0m\u001b[0;34m,\u001b[0m \u001b[0mcost\u001b[0m \u001b[0;34m=\u001b[0m \u001b[0mhierarchical\u001b[0m\u001b[0;34m(\u001b[0m\u001b[0mDATA\u001b[0m\u001b[0;34m,\u001b[0m \u001b[0;36m5\u001b[0m\u001b[0;34m,\u001b[0m\u001b[0;36m10\u001b[0m\u001b[0;34m,\u001b[0m\u001b[0;36m500\u001b[0m\u001b[0;34m)\u001b[0m\u001b[0;34m\u001b[0m\u001b[0m\n\u001b[0m\u001b[1;32m      7\u001b[0m \u001b[0mprint\u001b[0m\u001b[0;34m(\u001b[0m\u001b[0mcost\u001b[0m\u001b[0;34m)\u001b[0m\u001b[0;34m\u001b[0m\u001b[0m\n\u001b[1;32m      8\u001b[0m \u001b[0mcolors\u001b[0m \u001b[0;34m=\u001b[0m \u001b[0;34m[\u001b[0m\u001b[0;34m'blue'\u001b[0m\u001b[0;34m,\u001b[0m \u001b[0;34m'orange'\u001b[0m\u001b[0;34m,\u001b[0m \u001b[0;34m'green'\u001b[0m\u001b[0;34m,\u001b[0m \u001b[0;34m'magenta'\u001b[0m\u001b[0;34m,\u001b[0m \u001b[0;34m'yellow'\u001b[0m\u001b[0;34m]\u001b[0m\u001b[0;34m\u001b[0m\u001b[0m\n",
      "\u001b[0;31mTypeError\u001b[0m: hierarchical() takes 2 positional arguments but 4 were given"
     ]
    }
   ],
   "source": [
    "# Cluster the data from data2.csv into 5 clusters using hierarchical clustering and\n",
    "# plot the data as a scatter plot with points colored based on their cluster assignment\n",
    "# Cluster the data from data2.csv into 5 clusters using hierarchical clustering and\n",
    "# plot the data as a scatter plot with points colored based on their cluster assignment\n",
    "\n",
    "results, cost = hierarchical(DATA, 5,10,500)\n",
    "print(cost)\n",
    "colors = ['blue', 'orange', 'green', 'magenta', 'yellow']\n",
    "for i in range(results.shape[0]):\n",
    "    x, y =  DATA[i]\n",
    "    plt.scatter(x, y, c=colors[results[i]], label=colors[results[i]], edgecolors='none')\n",
    "\n",
    "plt.show()"
   ]
  },
  {
   "cell_type": "markdown",
   "metadata": {},
   "source": [
    "<P><font color=\"maroon\"><u>What is the cost associated with hierarchical clustering of the data from <code>data2.csv</code> into 5 clusters?<u></font></P>"
   ]
  },
  {
   "cell_type": "markdown",
   "metadata": {},
   "source": [
    "Your answer here. "
   ]
  },
  {
   "cell_type": "markdown",
   "metadata": {},
   "source": [
    "<H2>Task 3: Comparison to <code>sklearn</code> Agglomerative Clustering\n",
    "</H2>"
   ]
  },
  {
   "cell_type": "markdown",
   "metadata": {},
   "source": [
    "<P>Suppose we clustered the same data using two different algorithms. How can we assess the similarity of the two resulting clusterings? The FMI (Fowlkes-Mallows Index) is one measure of the similarity of two clusterings. The FMI score ranges between 0 and 1, where two unrelated clusterings have a score close to 0 and two highly similar clusterings have a score close to 1.</P>\n",
    "\n",
    "<P>Below, write code to cluster the data from <code>data2.csv</code> into 5 clusters using <a href=\"http://scikit-learn.org/stable/modules/generated/sklearn.cluster.AgglomerativeClustering.html\"><code>sklearn.cluster.AgglomerativeClustering</code></a>. Then, using the FMI, compare the similarity of the clustering assignments produced by your hierarchical clustering algorithm with the clustering assignments produced by <code>sklearn</code> agglomerative clustering. To compute the FMI, you can use <a href=\"http://scikit-learn.org/stable/modules/generated/sklearn.metrics.fowlkes_mallows_score.html\"><code>sklearn.metrics.fowlkes_mallows_score</code></a>."
   ]
  },
  {
   "cell_type": "code",
   "execution_count": 47,
   "metadata": {},
   "outputs": [
    {
     "ename": "NameError",
     "evalue": "name 'cluster_assigns' is not defined",
     "output_type": "error",
     "traceback": [
      "\u001b[0;31m---------------------------------------------------------------------------\u001b[0m",
      "\u001b[0;31mNameError\u001b[0m                                 Traceback (most recent call last)",
      "\u001b[0;32m<ipython-input-47-6e08175e42b6>\u001b[0m in \u001b[0;36m<module>\u001b[0;34m()\u001b[0m\n\u001b[1;32m      9\u001b[0m \u001b[0mclustering\u001b[0m \u001b[0;34m=\u001b[0m \u001b[0mAgglomerativeClustering\u001b[0m\u001b[0;34m(\u001b[0m\u001b[0mn_clusters\u001b[0m\u001b[0;34m=\u001b[0m\u001b[0;36m5\u001b[0m\u001b[0;34m)\u001b[0m\u001b[0;34m.\u001b[0m\u001b[0mfit\u001b[0m\u001b[0;34m(\u001b[0m\u001b[0mDATA\u001b[0m\u001b[0;34m)\u001b[0m\u001b[0;34m\u001b[0m\u001b[0m\n\u001b[1;32m     10\u001b[0m \u001b[0maggcluster\u001b[0m \u001b[0;34m=\u001b[0m \u001b[0mclustering\u001b[0m\u001b[0;34m.\u001b[0m\u001b[0mlabels_\u001b[0m\u001b[0;34m\u001b[0m\u001b[0m\n\u001b[0;32m---> 11\u001b[0;31m \u001b[0mfowlkes_mallows_score\u001b[0m\u001b[0;34m(\u001b[0m\u001b[0;34m[\u001b[0m\u001b[0maggcluster\u001b[0m\u001b[0;34m,\u001b[0m \u001b[0mcluster_assigns\u001b[0m\u001b[0;34m]\u001b[0m\u001b[0;34m)\u001b[0m\u001b[0;34m\u001b[0m\u001b[0m\n\u001b[0m",
      "\u001b[0;31mNameError\u001b[0m: name 'cluster_assigns' is not defined"
     ]
    }
   ],
   "source": [
    "# Cluster the data from data2.csv into 5 clusters \n",
    "# using sklearn.cluster.AgglomerativeClustering.\n",
    "# Then compute the similarity of you hierarchical clustering \n",
    "# and the sklearn agglomerative clustering using FMI.\n",
    "\n",
    "from sklearn.cluster import AgglomerativeClustering\n",
    "from sklearn.metrics.cluster import fowlkes_mallows_score\n",
    "\n",
    "clustering = AgglomerativeClustering(n_clusters=5).fit(DATA)\n",
    "aggcluster = clustering.labels_\n",
    "fowlkes_mallows_score([aggcluster, cluster_assigns])\n"
   ]
  },
  {
   "cell_type": "markdown",
   "metadata": {},
   "source": [
    "<P><font color=\"maroon\"><u>You have now clustered the data from <code>data2.csv</code> into 5 clusters using your own hierarchical clustering algorithm and using the <code>sklearn.cluster.Agglomerative</code> clustering algorithm. What is the FMI associated with the two clusterings?<u></font></P>"
   ]
  },
  {
   "cell_type": "markdown",
   "metadata": {},
   "source": [
    "Your answer here. "
   ]
  },
  {
   "cell_type": "markdown",
   "metadata": {
    "collapsed": true
   },
   "source": [
    "<H2>Task 4: <em>k</em>-Means Clustering\n",
    "</H2>"
   ]
  },
  {
   "cell_type": "markdown",
   "metadata": {
    "collapsed": true
   },
   "source": [
    "<P>In this task, you will code your own version of <em>k</em>-means clustering by implementing six functions as described below (though two of the six functions are identical to functions from Task 2 above, so if you've completed Task 2 then you need only implement four functions below). You are free to implement the functions however you like, but concise code is encouraged. Each function can be implemented with between 1 and 10 lines of code. For each function, we suggest possible helper functions that might be useful, but these are merely suggestions and you needn't follow them.</P>"
   ]
  },
  {
   "cell_type": "markdown",
   "metadata": {
    "collapsed": true
   },
   "source": [
    "<P><OL start=1><LI>Write a function <code><font color=\"blue\">randomlyAssignPointsToClusters</font></code>. The function takes two arguments as input corresponding to the number of data points and to the number of clusters. If <em>k</em> represents the second argument (the number of clusters), the function assigns to each data point a random integer between 0 and <em>k</em>-1, inclusive. When making cluster assignments, the function must ensure that at least one point is assigned to each cluster, i.e., no cluster should be empty. An array of the cluster assignments should be returned.</LI></OL></P>\n",
    "<P>Suggested helper functions: <a href=\"https://docs.scipy.org/doc/numpy/reference/generated/numpy.random.randint.html\"><code><font color=\"maroon\">numpy.random.randint</font></code></a></P>\n",
    "<P>Example: <code><font color=\"green\">print(randomlyAssignPointsToClusters(10, 2))</font></code> might output <code><font color=\"red\">[1 1 1 1 0 1 0 1 1 1]</font></code>, <code><font color=\"green\">print(randomlyAssignPointsToClusters(20, 3))</font></code> might output <code><font color=\"red\">[0 1 2 2 0 2 2 1 2 1 1 1 2 1 0 1 2 2 0 1]</font></code>, <code><font color=\"green\">print(randomlyAssignPointsToClusters(20, 5))</font></code> might output <code><font color=\"red\">[4 0 3 4 1 1 2 1 4 1 3 2 1 3 0 3 2 4 0 4]</font></code>, <code><font color=\"green\">print(randomlyAssignPointsToClusters(20, 15))</font></code> might output <code><font color=\"red\">[ 1  1  7  3  2  8  0 14  5  7 12  6  2 13  9 10  8 11  4 13]</font></code></P>"
   ]
  },
  {
   "cell_type": "code",
   "execution_count": 48,
   "metadata": {},
   "outputs": [
    {
     "name": "stdout",
     "output_type": "stream",
     "text": [
      "[1. 1. 1. 1. 0. 1. 0. 0. 1. 0.]\n"
     ]
    }
   ],
   "source": [
    "# Your randomlyAssignPointsToClsuters function here\n",
    "\n",
    "def randomlyAssignPointsToClusters(n_datapoints, n_clusters):\n",
    "    assigned = np.zeros(n_datapoints)\n",
    "    for point in range(len(assigned)):\n",
    "#         print(n_clusters)\n",
    "        assigned[point] = int(np.random.randint(0, high = n_clusters))\n",
    "    return assigned\n",
    "print(randomlyAssignPointsToClusters(10, 2))"
   ]
  },
  {
   "cell_type": "markdown",
   "metadata": {
    "collapsed": true
   },
   "source": [
    "<P><OL start=2><LI>Write a function <code><font color=\"blue\">calculateMeans</font></code> <font color=\"deeppink\">(note: this function is identical to that from Task 2)</font>. The function takes three arguments as input corresponding to a two-dimensional array (matrix) of data points, an array of cluster assignments, and the number of clusters. The function computes the mean of each cluster and returns an array of the cluster means.</LI></OL></P>\n",
    "<P>Suggested helper functions: <a href=\"https://docs.scipy.org/doc/numpy/reference/generated/numpy.zeros.html\"><code><font color=\"maroon\">numpy.zeros</font></code></a>, <a href=\"https://docs.scipy.org/doc/numpy/reference/generated/numpy.mean.html\"><code><font color=\"maroon\">numpy.mean</font></code></a></P>\n",
    "<P>Example: <code><font color=\"green\">print(calculateMeans(np.array([[8,1], [6,6], [2,7], [6,5]]), np.array([0, 1, 1, 0]), 2))</font></code> might output <code><font color=\"red\">[[ 7.   3. ], [ 4.   6.5]]</font></code></P>"
   ]
  },
  {
   "cell_type": "code",
   "execution_count": 49,
   "metadata": {},
   "outputs": [
    {
     "name": "stdout",
     "output_type": "stream",
     "text": [
      "[[7.0, 3.0], [4.0, 6.5]]\n"
     ]
    }
   ],
   "source": [
    "# Your calculateMeans function here\n",
    "\n",
    "def calculateMeans(matrix, cluster_assignment, num_clusters):\n",
    "    newCluster = np.zeros(num_clusters)\n",
    "    newDict = {} \n",
    "    for i in range(len(matrix)):\n",
    "        c = cluster_assignment[i]\n",
    "        if c not in newDict:\n",
    "            newDict[c] = [matrix[i]] \n",
    "        else: \n",
    "            newDict[c].append(matrix[i])\n",
    "#     print (newDict)\n",
    "    for entry in newDict: # each c assignment\n",
    "        x = 0\n",
    "        y = 0\n",
    "        for pair in newDict[entry]:\n",
    "#             print(pair)\n",
    "            x = x + pair[0]\n",
    "            y = y + pair[1]\n",
    "#             print(x,y)\n",
    "        entrylen = len(newDict[entry]) #length of num pairs in values array\n",
    "        mean_x = x/entrylen\n",
    "        mean_y = y/entrylen\n",
    "        newDict[entry] = [mean_x, mean_y]\n",
    "    listout = []\n",
    "    for i in range(len(newDict)):\n",
    "        for j in range(len(newDict[i])):\n",
    "            newDict[i][j] = newDict[i][j]\n",
    "        listout.append(newDict[i])\n",
    "    return(listout) \n",
    "\n",
    "print(calculateMeans(np.array([[8,1], [6,6], [2,7], [6,5]]), np.array([0, 1, 1, 0]), 2))  \n"
   ]
  },
  {
   "cell_type": "markdown",
   "metadata": {
    "collapsed": true
   },
   "source": [
    "<P><OL start=3><LI>Write a function <code><font color=\"blue\">assignPointsToClosestCluster</font></code>. The function takes two arguments as input corresponding to a two-dimensional array (matrix) of data points and an array of cluster means. The function assigns each data point to the cluster whose mean is closest to the data point. The function returns an array of the cluster assignments. In the event that no points are assigned to a particular cluster, i.e., a cluster is empty (this occurs in the final two of the four examples shown below), a point assigned to a non-empty clusters should be re-assigned to an empty cluster so that no clusters are empty in the final returned array of cluster assignments.</LI></OL></P>\n",
    "<P>Suggested helper functions: <a href=\"http://scikit-learn.org/stable/modules/generated/sklearn.metrics.pairwise.pairwise_distances.html\"><code><font color=\"maroon\">sklearn.metrics.pairwise.pairwise_distances</font></code></a>, <a href=\"https://docs.scipy.org/doc/numpy-1.14.0/reference/generated/numpy.argmin.html\"><code><font color=\"maroon\">numpy.argmin</font></code></a></P>\n",
    "<P>Example: <code><font color=\"green\">print(assignPointsToClosestCluster(np.array([[1,2],[8,7],[7,9],[3,1]]), np.array([[8,8],[2,2]])))</font></code> might output <code><font color=\"red\">[1 0 0 1]</font></code>, <code><font color=\"green\">print(assignPointsToClosestCluster(np.array([[1,2],[8,7],[7,9],[3,1],[5,4]]), np.array([[8,8],[2,2],[4,6]])))</font></code> might output <code><font color=\"red\">[1 0 0 1 2]</font></code>, <code><font color=\"green\">print(assignPointsToClosestCluster(np.array([[1,2],[8,7],[7,9],[3,1],[5,4]]), np.array([[8,8],[200,328]])))</font></code> might output <code><font color=\"red\">[0 0 0 0 1]</font></code>, <code><font color=\"green\">print(assignPointsToClosestCluster(np.array([[1,2],[8,7],[7,9],[3,1],[5,4]]), np.array([[8,8],[200,328],[981,850]])))</font></code> might output <code><font color=\"red\">[0 0 2 1 0]</font></code></P>"
   ]
  },
  {
   "cell_type": "code",
   "execution_count": 50,
   "metadata": {},
   "outputs": [
    {
     "name": "stdout",
     "output_type": "stream",
     "text": [
      "[0, 0, 2, 1, 0]\n"
     ]
    }
   ],
   "source": [
    "# Your assignPointsToClosestCluster function here\n",
    "def assignPointsToClosestCluster(datapoints,means):\n",
    "    dists = pairwise_distances(datapoints,means)\n",
    "    clust = []\n",
    "    for i in range(len(dists)):\n",
    "        clust.append((np.where(dists==np.min(dists[i]))[1][0]))\n",
    "        \n",
    "    i = 0\n",
    "    meancount = np.zeros(len(means))\n",
    "    while i < len(means):\n",
    "        if clust[i] == i:\n",
    "            meancount[i] += 1\n",
    "        i+=1\n",
    "    for i in range(len(meancount)):\n",
    "        if meancount[i] == 0:\n",
    "            clust[len(clust)-1-i] = i\n",
    "\n",
    "    return clust\n",
    "print(assignPointsToClosestCluster(np.array([[1,2],[8,7],[7,9],[3,1],[5,4]]), np.array([[8,8],[200,328],[981,850]])))"
   ]
  },
  {
   "cell_type": "markdown",
   "metadata": {},
   "source": [
    "<P><OL start=4><LI>Write a function <code><font color=\"blue\">getClusteringCost</font></code> <font color=\"deeppink\">(note: this function is identical to that from Task 2)</font>. The function takes three arguments as input corresponding to a two-dimensional array (matrix) of data points, an array of means, and an array of cluster assignments. The function computes and returns the cost of the clustering, i.e., the sum of squared distances of data points to their closest cluster mean.</LI></OL></P>\n",
    "<P>Suggested helper functions: <a href=\"https://docs.scipy.org/doc/numpy/reference/generated/numpy.sum.html\"><code><font color=\"maroon\">numpy.sum</font></code></a></P>\n",
    "<P>Example: <code><font color=\"green\">print(getClusteringCost(np.array([[2,2], [9,7], [6,8], [3,1]]), np.array([[1,4], [8,8]]), np.array([0, 1, 1, 0])))</font></code> might output <code><font color=\"red\">24.0</font></code></P>"
   ]
  },
  {
   "cell_type": "code",
   "execution_count": 51,
   "metadata": {},
   "outputs": [
    {
     "name": "stdout",
     "output_type": "stream",
     "text": [
      "24\n"
     ]
    }
   ],
   "source": [
    "# Your getClusteringCost function here\n",
    "def getClusteringCost(matrix, means_array, cluster_assignments):\n",
    "    cost = []\n",
    "    for i in range(len(matrix)):\n",
    "        clusterMean = means_array[cluster_assignments[i]]\n",
    "        cost.append((matrix[i][0] - clusterMean[0])**2 + (matrix[i][1] - clusterMean[1])**2)\n",
    "    return np.sum(cost)\n",
    "print(getClusteringCost(np.array([[2,2], [9,7], [6,8], [3,1]]), np.array([[1,4], [8,8]]), np.array([0, 1, 1, 0]))) \n"
   ]
  },
  {
   "cell_type": "markdown",
   "metadata": {},
   "source": [
    "<P><OL start=5><LI>Write a function <code><font color=\"blue\">clusterOnce</font></code>. The function takes three arguments as input corresponding to a two-dimensional array (matrix) of data points, the desired number of clusters, and the maximum number of iterations (<code>max_iter</code>) to run when the <em>k</em>-means algorithm is searching for convergence after starting with a set of random cluster assignments. The function executes the <em>k</em>-means algorithm for a single run, starting with a set of random cluster assignments and iteratively calculating cluster means and improving cluster assignments until either converenge or the maximum number of iterations is reached. The function returns two objects, an array of cluster assignments indicating the cluster of each data point and the cost of the clustering (where the cost is the sum of squared distances of data points to their closest cluster mean).</LI></OL></P>\n",
    "<P>Suggested helper functions: <a href=\"https://docs.scipy.org/doc/numpy/reference/generated/numpy.full.html\"><code><font color=\"maroon\">numpy.full</font></code></a>, <a href=\"https://docs.scipy.org/doc/numpy-1.14.0/reference/generated/numpy.array_equal.html\"><code><font color=\"maroon\">numpy.array_equal</font></code></a>, <a href=\"https://docs.scipy.org/doc/numpy/reference/generated/numpy.copy.html\"><code><font color=\"maroon\">numpy.copy</font></code></a>, <code><font color=\"maroon\">randomlyAssignPointsToClusters</font>, <code><font color=\"maroon\">calculateMeans</font>, <code><font color=\"maroon\">getClusteringCost</font>, <code><font color=\"maroon\">assignPointsToClosestCluster</font></P>\n",
    "<P>Example: <code><font color=\"green\">print(clusterOnce(np.array([8, 8, 7, 2, 9, 1, 3, 8]).reshape(-1,1), 2, 300))</font></code> might output <code><font color=\"red\">(array([0, 0, 0, 1, 0, 1, 1, 0]), 4.0)</font></code>, <code><font color=\"green\">print(clusterOnce(np.array([[6,4], [7,8], [3,1], [1,2], [9,7], [5,5]]), 3, 300))</font></code> might output <code><font color=\"red\">(array([1, 2, 0, 0, 2, 1]), 6.0)</font></code></P>"
   ]
  },
  {
   "cell_type": "code",
   "execution_count": 54,
   "metadata": {},
   "outputs": [
    {
     "name": "stdout",
     "output_type": "stream",
     "text": [
      "[1. 0. 2. 1. 0. 1.]\n",
      "[[8.0, 7.5], [4.0, 3.6666666666666665], [3.0, 1.0]]\n"
     ]
    },
    {
     "ename": "TypeError",
     "evalue": "list indices must be integers or slices, not numpy.float64",
     "output_type": "error",
     "traceback": [
      "\u001b[0;31m---------------------------------------------------------------------------\u001b[0m",
      "\u001b[0;31mTypeError\u001b[0m                                 Traceback (most recent call last)",
      "\u001b[0;32m<ipython-input-54-4893116c6c6e>\u001b[0m in \u001b[0;36m<module>\u001b[0;34m()\u001b[0m\n\u001b[1;32m     14\u001b[0m         \u001b[0mi\u001b[0m\u001b[0;34m+=\u001b[0m\u001b[0;36m1\u001b[0m\u001b[0;34m\u001b[0m\u001b[0m\n\u001b[1;32m     15\u001b[0m     \u001b[0;32mreturn\u001b[0m \u001b[0mcluster\u001b[0m\u001b[0;34m,\u001b[0m \u001b[0mcost\u001b[0m\u001b[0;34m\u001b[0m\u001b[0m\n\u001b[0;32m---> 16\u001b[0;31m \u001b[0mprint\u001b[0m\u001b[0;34m(\u001b[0m\u001b[0mclusterOnce\u001b[0m\u001b[0;34m(\u001b[0m\u001b[0mnp\u001b[0m\u001b[0;34m.\u001b[0m\u001b[0marray\u001b[0m\u001b[0;34m(\u001b[0m\u001b[0;34m[\u001b[0m\u001b[0;34m[\u001b[0m\u001b[0;36m6\u001b[0m\u001b[0;34m,\u001b[0m\u001b[0;36m4\u001b[0m\u001b[0;34m]\u001b[0m\u001b[0;34m,\u001b[0m \u001b[0;34m[\u001b[0m\u001b[0;36m7\u001b[0m\u001b[0;34m,\u001b[0m\u001b[0;36m8\u001b[0m\u001b[0;34m]\u001b[0m\u001b[0;34m,\u001b[0m \u001b[0;34m[\u001b[0m\u001b[0;36m3\u001b[0m\u001b[0;34m,\u001b[0m\u001b[0;36m1\u001b[0m\u001b[0;34m]\u001b[0m\u001b[0;34m,\u001b[0m \u001b[0;34m[\u001b[0m\u001b[0;36m1\u001b[0m\u001b[0;34m,\u001b[0m\u001b[0;36m2\u001b[0m\u001b[0;34m]\u001b[0m\u001b[0;34m,\u001b[0m \u001b[0;34m[\u001b[0m\u001b[0;36m9\u001b[0m\u001b[0;34m,\u001b[0m\u001b[0;36m7\u001b[0m\u001b[0;34m]\u001b[0m\u001b[0;34m,\u001b[0m \u001b[0;34m[\u001b[0m\u001b[0;36m5\u001b[0m\u001b[0;34m,\u001b[0m\u001b[0;36m5\u001b[0m\u001b[0;34m]\u001b[0m\u001b[0;34m]\u001b[0m\u001b[0;34m)\u001b[0m\u001b[0;34m,\u001b[0m \u001b[0;36m3\u001b[0m\u001b[0;34m,\u001b[0m \u001b[0;36m300\u001b[0m\u001b[0;34m)\u001b[0m\u001b[0;34m)\u001b[0m\u001b[0;34m\u001b[0m\u001b[0m\n\u001b[0m",
      "\u001b[0;32m<ipython-input-54-4893116c6c6e>\u001b[0m in \u001b[0;36mclusterOnce\u001b[0;34m(matrix, numcluster, max_iter)\u001b[0m\n\u001b[1;32m      5\u001b[0m     \u001b[0mmeans\u001b[0m \u001b[0;34m=\u001b[0m \u001b[0mcalculateMeans\u001b[0m\u001b[0;34m(\u001b[0m\u001b[0mmatrix\u001b[0m\u001b[0;34m,\u001b[0m \u001b[0mcluster\u001b[0m\u001b[0;34m,\u001b[0m \u001b[0mnumcluster\u001b[0m\u001b[0;34m)\u001b[0m\u001b[0;34m\u001b[0m\u001b[0m\n\u001b[1;32m      6\u001b[0m     \u001b[0mprint\u001b[0m\u001b[0;34m(\u001b[0m\u001b[0mmeans\u001b[0m\u001b[0;34m)\u001b[0m\u001b[0;34m\u001b[0m\u001b[0m\n\u001b[0;32m----> 7\u001b[0;31m     \u001b[0mcost\u001b[0m \u001b[0;34m=\u001b[0m \u001b[0mgetClusteringCost\u001b[0m\u001b[0;34m(\u001b[0m\u001b[0mmatrix\u001b[0m\u001b[0;34m,\u001b[0m \u001b[0mmeans\u001b[0m\u001b[0;34m,\u001b[0m \u001b[0mcluster\u001b[0m\u001b[0;34m)\u001b[0m\u001b[0;34m\u001b[0m\u001b[0m\n\u001b[0m\u001b[1;32m      8\u001b[0m     \u001b[0mprint\u001b[0m\u001b[0;34m(\u001b[0m\u001b[0mcost\u001b[0m\u001b[0;34m)\u001b[0m\u001b[0;34m\u001b[0m\u001b[0m\n\u001b[1;32m      9\u001b[0m     \u001b[0mi\u001b[0m \u001b[0;34m=\u001b[0m \u001b[0;36m0\u001b[0m\u001b[0;34m\u001b[0m\u001b[0m\n",
      "\u001b[0;32m<ipython-input-51-03c7053c6b0b>\u001b[0m in \u001b[0;36mgetClusteringCost\u001b[0;34m(matrix, means_array, cluster_assignments)\u001b[0m\n\u001b[1;32m      3\u001b[0m     \u001b[0mcost\u001b[0m \u001b[0;34m=\u001b[0m \u001b[0;34m[\u001b[0m\u001b[0;34m]\u001b[0m\u001b[0;34m\u001b[0m\u001b[0m\n\u001b[1;32m      4\u001b[0m     \u001b[0;32mfor\u001b[0m \u001b[0mi\u001b[0m \u001b[0;32min\u001b[0m \u001b[0mrange\u001b[0m\u001b[0;34m(\u001b[0m\u001b[0mlen\u001b[0m\u001b[0;34m(\u001b[0m\u001b[0mmatrix\u001b[0m\u001b[0;34m)\u001b[0m\u001b[0;34m)\u001b[0m\u001b[0;34m:\u001b[0m\u001b[0;34m\u001b[0m\u001b[0m\n\u001b[0;32m----> 5\u001b[0;31m         \u001b[0mclusterMean\u001b[0m \u001b[0;34m=\u001b[0m \u001b[0mmeans_array\u001b[0m\u001b[0;34m[\u001b[0m\u001b[0mcluster_assignments\u001b[0m\u001b[0;34m[\u001b[0m\u001b[0mi\u001b[0m\u001b[0;34m]\u001b[0m\u001b[0;34m]\u001b[0m\u001b[0;34m\u001b[0m\u001b[0m\n\u001b[0m\u001b[1;32m      6\u001b[0m         \u001b[0mcost\u001b[0m\u001b[0;34m.\u001b[0m\u001b[0mappend\u001b[0m\u001b[0;34m(\u001b[0m\u001b[0;34m(\u001b[0m\u001b[0mmatrix\u001b[0m\u001b[0;34m[\u001b[0m\u001b[0mi\u001b[0m\u001b[0;34m]\u001b[0m\u001b[0;34m[\u001b[0m\u001b[0;36m0\u001b[0m\u001b[0;34m]\u001b[0m \u001b[0;34m-\u001b[0m \u001b[0mclusterMean\u001b[0m\u001b[0;34m[\u001b[0m\u001b[0;36m0\u001b[0m\u001b[0;34m]\u001b[0m\u001b[0;34m)\u001b[0m\u001b[0;34m**\u001b[0m\u001b[0;36m2\u001b[0m \u001b[0;34m+\u001b[0m \u001b[0;34m(\u001b[0m\u001b[0mmatrix\u001b[0m\u001b[0;34m[\u001b[0m\u001b[0mi\u001b[0m\u001b[0;34m]\u001b[0m\u001b[0;34m[\u001b[0m\u001b[0;36m1\u001b[0m\u001b[0;34m]\u001b[0m \u001b[0;34m-\u001b[0m \u001b[0mclusterMean\u001b[0m\u001b[0;34m[\u001b[0m\u001b[0;36m1\u001b[0m\u001b[0;34m]\u001b[0m\u001b[0;34m)\u001b[0m\u001b[0;34m**\u001b[0m\u001b[0;36m2\u001b[0m\u001b[0;34m)\u001b[0m\u001b[0;34m\u001b[0m\u001b[0m\n\u001b[1;32m      7\u001b[0m     \u001b[0;32mreturn\u001b[0m \u001b[0mnp\u001b[0m\u001b[0;34m.\u001b[0m\u001b[0msum\u001b[0m\u001b[0;34m(\u001b[0m\u001b[0mcost\u001b[0m\u001b[0;34m)\u001b[0m\u001b[0;34m\u001b[0m\u001b[0m\n",
      "\u001b[0;31mTypeError\u001b[0m: list indices must be integers or slices, not numpy.float64"
     ]
    }
   ],
   "source": [
    "# Your clusterOnce function here\n",
    "def clusterOnce(matrix, numcluster, max_iter):\n",
    "    cluster = randomlyAssignPointsToClusters(len(matrix), numcluster)\n",
    "    print(cluster)\n",
    "    means = calculateMeans(matrix, cluster, numcluster)\n",
    "    print(means)\n",
    "    cost = getClusteringCost(matrix, means, cluster)\n",
    "    print(cost)\n",
    "    i = 0\n",
    "    while(i<max_iter):\n",
    "        means = calculateMeans(matrix, cluster, numcluster)\n",
    "        cluster = assignPointsToClosestCluster(matrix, means)\n",
    "        cost = getClusteringCost(matrix, means, cluster)\n",
    "        i+=1\n",
    "    return cluster, cost\n",
    "print(clusterOnce(np.array([[6,4], [7,8], [3,1], [1,2], [9,7], [5,5]]), 3, 300))"
   ]
  },
  {
   "cell_type": "markdown",
   "metadata": {},
   "source": [
    "<P><OL start=6><LI>Write a function <code><font color=\"blue\">kmeans</font></code>. The function takes four arguments as input corresponding to a two-dimensional array (matrix) of data points, the desired number of clusters, the number of times the <em>k</em>-means algorithm is run (<code>n_iter</code>) with different initial random cluster assignments, and the maximum number of iterations (<code>max_iter</code>) to run when the <em>k</em>-means algorithm is searching for convergence after starting with a set of random cluster assignments. The function executes the <em>k</em>-means algorithm multiple times and keeps track of the best clustering it finds over the multiple executions. The function returns two objects corresponding to the best clustering that it finds, an array of cluster assignments indicating the cluster of each data point and the cost of the clustering (where the cost is the sum of squared distances of data points to their closest cluster mean).</LI></OL></P>\n",
    "<P>Suggested helper functions: <a href=\"https://docs.scipy.org/doc/numpy/reference/generated/numpy.full.html\"><code><font color=\"maroon\">numpy.full</font></code></a>, <a href=\"https://docs.scipy.org/doc/numpy/reference/generated/numpy.copy.html\"><code><font color=\"maroon\">numpy.copy</font></code></a>, <code><font color=\"maroon\">clusterOnce</font></P>\n",
    "<P>Example: <code><font color=\"green\">print(kmeans(np.array([8, 8, 7, 2, 9, 1, 3, 8]).reshape(-1,1), 2, 10, 300))</font></code> might output <code><font color=\"red\">(array([1, 1, 1, 0, 1, 0, 0, 1]), 4.0)</font></code>, <code><font color=\"green\">print(kmeans(np.array([[6,4], [7,8], [3,1], [1,2], [9,7], [5,5]]), 3, 10, 300))</font></code> might output <code><font color=\"red\">(array([1, 2, 0, 0, 2, 1]), 6.0)</font></code></P>"
   ]
  },
  {
   "cell_type": "code",
   "execution_count": 55,
   "metadata": {},
   "outputs": [
    {
     "name": "stdout",
     "output_type": "stream",
     "text": [
      "[1. 1. 0. 2. 2.]\n",
      "[[7.0, 9.0], [4.5, 4.5], [4.0, 2.5]]\n"
     ]
    },
    {
     "ename": "TypeError",
     "evalue": "list indices must be integers or slices, not numpy.float64",
     "output_type": "error",
     "traceback": [
      "\u001b[0;31m---------------------------------------------------------------------------\u001b[0m",
      "\u001b[0;31mTypeError\u001b[0m                                 Traceback (most recent call last)",
      "\u001b[0;32m<ipython-input-55-a5b2f66adc18>\u001b[0m in \u001b[0;36m<module>\u001b[0;34m()\u001b[0m\n\u001b[1;32m      4\u001b[0m     \u001b[0;32mwhile\u001b[0m\u001b[0;34m(\u001b[0m\u001b[0mi\u001b[0m\u001b[0;34m<\u001b[0m\u001b[0mn_iter\u001b[0m\u001b[0;34m)\u001b[0m\u001b[0;34m:\u001b[0m\u001b[0;34m\u001b[0m\u001b[0m\n\u001b[1;32m      5\u001b[0m         \u001b[0mclusterOnce\u001b[0m\u001b[0;34m(\u001b[0m\u001b[0mmatrix\u001b[0m\u001b[0;34m,\u001b[0m \u001b[0mn_clust\u001b[0m\u001b[0;34m,\u001b[0m \u001b[0mmax_iter\u001b[0m\u001b[0;34m)\u001b[0m\u001b[0;34m\u001b[0m\u001b[0m\n\u001b[0;32m----> 6\u001b[0;31m \u001b[0mprint\u001b[0m\u001b[0;34m(\u001b[0m\u001b[0mkmeans\u001b[0m\u001b[0;34m(\u001b[0m\u001b[0mnp\u001b[0m\u001b[0;34m.\u001b[0m\u001b[0marray\u001b[0m\u001b[0;34m(\u001b[0m\u001b[0;34m[\u001b[0m\u001b[0;34m[\u001b[0m\u001b[0;36m1\u001b[0m\u001b[0;34m,\u001b[0m\u001b[0;36m2\u001b[0m\u001b[0;34m]\u001b[0m\u001b[0;34m,\u001b[0m\u001b[0;34m[\u001b[0m\u001b[0;36m8\u001b[0m\u001b[0;34m,\u001b[0m\u001b[0;36m7\u001b[0m\u001b[0;34m]\u001b[0m\u001b[0;34m,\u001b[0m\u001b[0;34m[\u001b[0m\u001b[0;36m7\u001b[0m\u001b[0;34m,\u001b[0m\u001b[0;36m9\u001b[0m\u001b[0;34m]\u001b[0m\u001b[0;34m,\u001b[0m\u001b[0;34m[\u001b[0m\u001b[0;36m3\u001b[0m\u001b[0;34m,\u001b[0m\u001b[0;36m1\u001b[0m\u001b[0;34m]\u001b[0m\u001b[0;34m,\u001b[0m\u001b[0;34m[\u001b[0m\u001b[0;36m5\u001b[0m\u001b[0;34m,\u001b[0m\u001b[0;36m4\u001b[0m\u001b[0;34m]\u001b[0m\u001b[0;34m]\u001b[0m\u001b[0;34m)\u001b[0m\u001b[0;34m,\u001b[0m \u001b[0;36m3\u001b[0m\u001b[0;34m,\u001b[0m \u001b[0;36m10\u001b[0m\u001b[0;34m,\u001b[0m \u001b[0;36m300\u001b[0m\u001b[0;34m)\u001b[0m\u001b[0;34m)\u001b[0m\u001b[0;34m\u001b[0m\u001b[0m\n\u001b[0m",
      "\u001b[0;32m<ipython-input-55-a5b2f66adc18>\u001b[0m in \u001b[0;36mkmeans\u001b[0;34m(matrix, n_clust, n_iter, max_iter)\u001b[0m\n\u001b[1;32m      3\u001b[0m     \u001b[0mi\u001b[0m \u001b[0;34m=\u001b[0m \u001b[0;36m0\u001b[0m\u001b[0;34m\u001b[0m\u001b[0m\n\u001b[1;32m      4\u001b[0m     \u001b[0;32mwhile\u001b[0m\u001b[0;34m(\u001b[0m\u001b[0mi\u001b[0m\u001b[0;34m<\u001b[0m\u001b[0mn_iter\u001b[0m\u001b[0;34m)\u001b[0m\u001b[0;34m:\u001b[0m\u001b[0;34m\u001b[0m\u001b[0m\n\u001b[0;32m----> 5\u001b[0;31m         \u001b[0mclusterOnce\u001b[0m\u001b[0;34m(\u001b[0m\u001b[0mmatrix\u001b[0m\u001b[0;34m,\u001b[0m \u001b[0mn_clust\u001b[0m\u001b[0;34m,\u001b[0m \u001b[0mmax_iter\u001b[0m\u001b[0;34m)\u001b[0m\u001b[0;34m\u001b[0m\u001b[0m\n\u001b[0m\u001b[1;32m      6\u001b[0m \u001b[0mprint\u001b[0m\u001b[0;34m(\u001b[0m\u001b[0mkmeans\u001b[0m\u001b[0;34m(\u001b[0m\u001b[0mnp\u001b[0m\u001b[0;34m.\u001b[0m\u001b[0marray\u001b[0m\u001b[0;34m(\u001b[0m\u001b[0;34m[\u001b[0m\u001b[0;34m[\u001b[0m\u001b[0;36m1\u001b[0m\u001b[0;34m,\u001b[0m\u001b[0;36m2\u001b[0m\u001b[0;34m]\u001b[0m\u001b[0;34m,\u001b[0m\u001b[0;34m[\u001b[0m\u001b[0;36m8\u001b[0m\u001b[0;34m,\u001b[0m\u001b[0;36m7\u001b[0m\u001b[0;34m]\u001b[0m\u001b[0;34m,\u001b[0m\u001b[0;34m[\u001b[0m\u001b[0;36m7\u001b[0m\u001b[0;34m,\u001b[0m\u001b[0;36m9\u001b[0m\u001b[0;34m]\u001b[0m\u001b[0;34m,\u001b[0m\u001b[0;34m[\u001b[0m\u001b[0;36m3\u001b[0m\u001b[0;34m,\u001b[0m\u001b[0;36m1\u001b[0m\u001b[0;34m]\u001b[0m\u001b[0;34m,\u001b[0m\u001b[0;34m[\u001b[0m\u001b[0;36m5\u001b[0m\u001b[0;34m,\u001b[0m\u001b[0;36m4\u001b[0m\u001b[0;34m]\u001b[0m\u001b[0;34m]\u001b[0m\u001b[0;34m)\u001b[0m\u001b[0;34m,\u001b[0m \u001b[0;36m3\u001b[0m\u001b[0;34m,\u001b[0m \u001b[0;36m10\u001b[0m\u001b[0;34m,\u001b[0m \u001b[0;36m300\u001b[0m\u001b[0;34m)\u001b[0m\u001b[0;34m)\u001b[0m\u001b[0;34m\u001b[0m\u001b[0m\n",
      "\u001b[0;32m<ipython-input-54-4893116c6c6e>\u001b[0m in \u001b[0;36mclusterOnce\u001b[0;34m(matrix, numcluster, max_iter)\u001b[0m\n\u001b[1;32m      5\u001b[0m     \u001b[0mmeans\u001b[0m \u001b[0;34m=\u001b[0m \u001b[0mcalculateMeans\u001b[0m\u001b[0;34m(\u001b[0m\u001b[0mmatrix\u001b[0m\u001b[0;34m,\u001b[0m \u001b[0mcluster\u001b[0m\u001b[0;34m,\u001b[0m \u001b[0mnumcluster\u001b[0m\u001b[0;34m)\u001b[0m\u001b[0;34m\u001b[0m\u001b[0m\n\u001b[1;32m      6\u001b[0m     \u001b[0mprint\u001b[0m\u001b[0;34m(\u001b[0m\u001b[0mmeans\u001b[0m\u001b[0;34m)\u001b[0m\u001b[0;34m\u001b[0m\u001b[0m\n\u001b[0;32m----> 7\u001b[0;31m     \u001b[0mcost\u001b[0m \u001b[0;34m=\u001b[0m \u001b[0mgetClusteringCost\u001b[0m\u001b[0;34m(\u001b[0m\u001b[0mmatrix\u001b[0m\u001b[0;34m,\u001b[0m \u001b[0mmeans\u001b[0m\u001b[0;34m,\u001b[0m \u001b[0mcluster\u001b[0m\u001b[0;34m)\u001b[0m\u001b[0;34m\u001b[0m\u001b[0m\n\u001b[0m\u001b[1;32m      8\u001b[0m     \u001b[0mprint\u001b[0m\u001b[0;34m(\u001b[0m\u001b[0mcost\u001b[0m\u001b[0;34m)\u001b[0m\u001b[0;34m\u001b[0m\u001b[0m\n\u001b[1;32m      9\u001b[0m     \u001b[0mi\u001b[0m \u001b[0;34m=\u001b[0m \u001b[0;36m0\u001b[0m\u001b[0;34m\u001b[0m\u001b[0m\n",
      "\u001b[0;32m<ipython-input-51-03c7053c6b0b>\u001b[0m in \u001b[0;36mgetClusteringCost\u001b[0;34m(matrix, means_array, cluster_assignments)\u001b[0m\n\u001b[1;32m      3\u001b[0m     \u001b[0mcost\u001b[0m \u001b[0;34m=\u001b[0m \u001b[0;34m[\u001b[0m\u001b[0;34m]\u001b[0m\u001b[0;34m\u001b[0m\u001b[0m\n\u001b[1;32m      4\u001b[0m     \u001b[0;32mfor\u001b[0m \u001b[0mi\u001b[0m \u001b[0;32min\u001b[0m \u001b[0mrange\u001b[0m\u001b[0;34m(\u001b[0m\u001b[0mlen\u001b[0m\u001b[0;34m(\u001b[0m\u001b[0mmatrix\u001b[0m\u001b[0;34m)\u001b[0m\u001b[0;34m)\u001b[0m\u001b[0;34m:\u001b[0m\u001b[0;34m\u001b[0m\u001b[0m\n\u001b[0;32m----> 5\u001b[0;31m         \u001b[0mclusterMean\u001b[0m \u001b[0;34m=\u001b[0m \u001b[0mmeans_array\u001b[0m\u001b[0;34m[\u001b[0m\u001b[0mcluster_assignments\u001b[0m\u001b[0;34m[\u001b[0m\u001b[0mi\u001b[0m\u001b[0;34m]\u001b[0m\u001b[0;34m]\u001b[0m\u001b[0;34m\u001b[0m\u001b[0m\n\u001b[0m\u001b[1;32m      6\u001b[0m         \u001b[0mcost\u001b[0m\u001b[0;34m.\u001b[0m\u001b[0mappend\u001b[0m\u001b[0;34m(\u001b[0m\u001b[0;34m(\u001b[0m\u001b[0mmatrix\u001b[0m\u001b[0;34m[\u001b[0m\u001b[0mi\u001b[0m\u001b[0;34m]\u001b[0m\u001b[0;34m[\u001b[0m\u001b[0;36m0\u001b[0m\u001b[0;34m]\u001b[0m \u001b[0;34m-\u001b[0m \u001b[0mclusterMean\u001b[0m\u001b[0;34m[\u001b[0m\u001b[0;36m0\u001b[0m\u001b[0;34m]\u001b[0m\u001b[0;34m)\u001b[0m\u001b[0;34m**\u001b[0m\u001b[0;36m2\u001b[0m \u001b[0;34m+\u001b[0m \u001b[0;34m(\u001b[0m\u001b[0mmatrix\u001b[0m\u001b[0;34m[\u001b[0m\u001b[0mi\u001b[0m\u001b[0;34m]\u001b[0m\u001b[0;34m[\u001b[0m\u001b[0;36m1\u001b[0m\u001b[0;34m]\u001b[0m \u001b[0;34m-\u001b[0m \u001b[0mclusterMean\u001b[0m\u001b[0;34m[\u001b[0m\u001b[0;36m1\u001b[0m\u001b[0;34m]\u001b[0m\u001b[0;34m)\u001b[0m\u001b[0;34m**\u001b[0m\u001b[0;36m2\u001b[0m\u001b[0;34m)\u001b[0m\u001b[0;34m\u001b[0m\u001b[0m\n\u001b[1;32m      7\u001b[0m     \u001b[0;32mreturn\u001b[0m \u001b[0mnp\u001b[0m\u001b[0;34m.\u001b[0m\u001b[0msum\u001b[0m\u001b[0;34m(\u001b[0m\u001b[0mcost\u001b[0m\u001b[0;34m)\u001b[0m\u001b[0;34m\u001b[0m\u001b[0m\n",
      "\u001b[0;31mTypeError\u001b[0m: list indices must be integers or slices, not numpy.float64"
     ]
    }
   ],
   "source": [
    "# Your kmeans function here\n",
    "def kmeans(matrix, n_clust, n_iter, max_iter):\n",
    "    i = 0\n",
    "    while(i<n_iter):\n",
    "        clusterOnce(matrix, n_clust, max_iter)\n",
    "print(kmeans(np.array([[1,2],[8,7],[7,9],[3,1],[5,4]]), 3, 10, 300))"
   ]
  },
  {
   "cell_type": "markdown",
   "metadata": {},
   "source": [
    "<P>Now that you have implemented your own <em>k</em>-means clustering algorithm, as a final step for this task, execute your <em>k</em>-means clustering algorithm on the data from <code>data2.csv</code>. You should cluster the data into 5 clusters. Set the number of times that <em>k</em>-means is run (<code>n_iter</code>) with different random starting points to be 10, and set the maximum number of iterations of the <em>k</em>-means algorithm for a single run (<code>max_iter</code>) to be 300. Generate a scatter plot of the data from <code>data2.csv</code> and color each of the points based on its cluster assignment, i.e., all the points in a given cluster should have the same color as each other and should have a different color than points in other clusters.</P>"
   ]
  },
  {
   "cell_type": "code",
   "execution_count": 56,
   "metadata": {},
   "outputs": [
    {
     "name": "stdout",
     "output_type": "stream",
     "text": [
      "[2. 2. 1. 4. 2. 2. 2. 3. 1. 2. 3. 3. 4. 2. 1. 4. 4. 3. 1. 1. 4. 1. 2. 2.\n",
      " 1. 3. 2. 1. 4. 0. 0. 1. 1. 0. 4. 0. 2. 2. 0. 0. 1. 3. 2. 3. 2. 2. 2. 2.\n",
      " 1. 4. 0. 0. 3. 1. 1. 2. 3. 0. 2. 2. 0. 2. 0. 4. 3. 2. 0. 1. 0. 0. 1. 1.\n",
      " 4. 1. 0. 2. 0. 2. 4. 2. 0. 4. 2. 2. 1. 3. 3. 4. 1. 0. 1. 0. 3. 1. 0. 4.\n",
      " 2. 2. 3. 0. 0. 2. 3. 3. 3. 3. 3. 1. 3. 1. 3. 3. 3. 2. 0. 4. 4. 3. 3. 1.\n",
      " 0. 3. 1. 1. 2. 4. 4. 3. 3. 3. 3. 2. 3. 2. 0. 3. 1. 3. 3. 3. 4. 2. 4. 3.\n",
      " 3. 4. 2. 2. 1. 1. 2. 1. 0. 3. 0. 3. 2. 0. 3. 3. 1. 0. 2. 3. 2. 2. 4. 0.\n",
      " 2. 4. 0. 4. 0. 0. 0. 4. 3. 2. 1. 3. 4. 1. 0. 1. 1. 2. 0. 4. 4. 2. 1. 2.\n",
      " 3. 2. 0. 1. 1. 3. 0. 0. 0. 4. 0. 1. 2. 4. 0. 4. 0. 1. 3. 2. 3. 1. 3. 0.\n",
      " 1. 1. 3. 3. 3. 0. 2. 0. 4. 4. 2. 3. 2. 0. 1. 1. 0. 4. 3. 0. 0. 4. 1. 4.\n",
      " 2. 3. 4. 2. 2. 2. 0. 2. 4. 2. 1. 3. 1. 0. 4. 1. 3. 0. 4. 4. 2. 0. 0. 4.\n",
      " 2. 4. 1. 2. 2. 3. 3. 1. 2. 0. 4. 3. 1. 4. 3. 1. 2. 4. 2. 0. 1. 3. 0. 1.\n",
      " 2. 1. 2. 4. 4. 2. 3. 3. 3. 2. 1. 1.]\n",
      "[[0.5442721291677696, 0.7759019951450127], [0.5733596419117829, 0.7228436725230343], [0.5597147286961163, 0.7143072215202787], [0.5844198340087208, 0.7221163368494206], [0.6120182922212788, 0.7500503587517975]]\n"
     ]
    },
    {
     "ename": "TypeError",
     "evalue": "list indices must be integers or slices, not numpy.float64",
     "output_type": "error",
     "traceback": [
      "\u001b[0;31m---------------------------------------------------------------------------\u001b[0m",
      "\u001b[0;31mTypeError\u001b[0m                                 Traceback (most recent call last)",
      "\u001b[0;32m<ipython-input-56-608e71a36783>\u001b[0m in \u001b[0;36m<module>\u001b[0;34m()\u001b[0m\n\u001b[1;32m      2\u001b[0m \u001b[0;31m# plot the data as a scatter plot with points colored based on their cluster assignment\u001b[0m\u001b[0;34m\u001b[0m\u001b[0;34m\u001b[0m\u001b[0m\n\u001b[1;32m      3\u001b[0m \u001b[0;34m\u001b[0m\u001b[0m\n\u001b[0;32m----> 4\u001b[0;31m \u001b[0mresults\u001b[0m\u001b[0;34m,\u001b[0m \u001b[0mcost\u001b[0m \u001b[0;34m=\u001b[0m \u001b[0mkmeans\u001b[0m\u001b[0;34m(\u001b[0m\u001b[0mDATA\u001b[0m\u001b[0;34m,\u001b[0m \u001b[0;36m5\u001b[0m\u001b[0;34m,\u001b[0m\u001b[0;36m10\u001b[0m\u001b[0;34m,\u001b[0m\u001b[0;36m5\u001b[0m\u001b[0;34m)\u001b[0m\u001b[0;34m\u001b[0m\u001b[0m\n\u001b[0m\u001b[1;32m      5\u001b[0m \u001b[0mprint\u001b[0m\u001b[0;34m(\u001b[0m\u001b[0mcost\u001b[0m\u001b[0;34m)\u001b[0m\u001b[0;34m\u001b[0m\u001b[0m\n\u001b[1;32m      6\u001b[0m \u001b[0mcolors\u001b[0m \u001b[0;34m=\u001b[0m \u001b[0;34m[\u001b[0m\u001b[0;34m'blue'\u001b[0m\u001b[0;34m,\u001b[0m \u001b[0;34m'orange'\u001b[0m\u001b[0;34m,\u001b[0m \u001b[0;34m'green'\u001b[0m\u001b[0;34m,\u001b[0m \u001b[0;34m'magenta'\u001b[0m\u001b[0;34m,\u001b[0m \u001b[0;34m'yellow'\u001b[0m\u001b[0;34m]\u001b[0m\u001b[0;34m\u001b[0m\u001b[0m\n",
      "\u001b[0;32m<ipython-input-55-a5b2f66adc18>\u001b[0m in \u001b[0;36mkmeans\u001b[0;34m(matrix, n_clust, n_iter, max_iter)\u001b[0m\n\u001b[1;32m      3\u001b[0m     \u001b[0mi\u001b[0m \u001b[0;34m=\u001b[0m \u001b[0;36m0\u001b[0m\u001b[0;34m\u001b[0m\u001b[0m\n\u001b[1;32m      4\u001b[0m     \u001b[0;32mwhile\u001b[0m\u001b[0;34m(\u001b[0m\u001b[0mi\u001b[0m\u001b[0;34m<\u001b[0m\u001b[0mn_iter\u001b[0m\u001b[0;34m)\u001b[0m\u001b[0;34m:\u001b[0m\u001b[0;34m\u001b[0m\u001b[0m\n\u001b[0;32m----> 5\u001b[0;31m         \u001b[0mclusterOnce\u001b[0m\u001b[0;34m(\u001b[0m\u001b[0mmatrix\u001b[0m\u001b[0;34m,\u001b[0m \u001b[0mn_clust\u001b[0m\u001b[0;34m,\u001b[0m \u001b[0mmax_iter\u001b[0m\u001b[0;34m)\u001b[0m\u001b[0;34m\u001b[0m\u001b[0m\n\u001b[0m\u001b[1;32m      6\u001b[0m \u001b[0mprint\u001b[0m\u001b[0;34m(\u001b[0m\u001b[0mkmeans\u001b[0m\u001b[0;34m(\u001b[0m\u001b[0mnp\u001b[0m\u001b[0;34m.\u001b[0m\u001b[0marray\u001b[0m\u001b[0;34m(\u001b[0m\u001b[0;34m[\u001b[0m\u001b[0;34m[\u001b[0m\u001b[0;36m1\u001b[0m\u001b[0;34m,\u001b[0m\u001b[0;36m2\u001b[0m\u001b[0;34m]\u001b[0m\u001b[0;34m,\u001b[0m\u001b[0;34m[\u001b[0m\u001b[0;36m8\u001b[0m\u001b[0;34m,\u001b[0m\u001b[0;36m7\u001b[0m\u001b[0;34m]\u001b[0m\u001b[0;34m,\u001b[0m\u001b[0;34m[\u001b[0m\u001b[0;36m7\u001b[0m\u001b[0;34m,\u001b[0m\u001b[0;36m9\u001b[0m\u001b[0;34m]\u001b[0m\u001b[0;34m,\u001b[0m\u001b[0;34m[\u001b[0m\u001b[0;36m3\u001b[0m\u001b[0;34m,\u001b[0m\u001b[0;36m1\u001b[0m\u001b[0;34m]\u001b[0m\u001b[0;34m,\u001b[0m\u001b[0;34m[\u001b[0m\u001b[0;36m5\u001b[0m\u001b[0;34m,\u001b[0m\u001b[0;36m4\u001b[0m\u001b[0;34m]\u001b[0m\u001b[0;34m]\u001b[0m\u001b[0;34m)\u001b[0m\u001b[0;34m,\u001b[0m \u001b[0;36m3\u001b[0m\u001b[0;34m,\u001b[0m \u001b[0;36m10\u001b[0m\u001b[0;34m,\u001b[0m \u001b[0;36m300\u001b[0m\u001b[0;34m)\u001b[0m\u001b[0;34m)\u001b[0m\u001b[0;34m\u001b[0m\u001b[0m\n",
      "\u001b[0;32m<ipython-input-54-4893116c6c6e>\u001b[0m in \u001b[0;36mclusterOnce\u001b[0;34m(matrix, numcluster, max_iter)\u001b[0m\n\u001b[1;32m      5\u001b[0m     \u001b[0mmeans\u001b[0m \u001b[0;34m=\u001b[0m \u001b[0mcalculateMeans\u001b[0m\u001b[0;34m(\u001b[0m\u001b[0mmatrix\u001b[0m\u001b[0;34m,\u001b[0m \u001b[0mcluster\u001b[0m\u001b[0;34m,\u001b[0m \u001b[0mnumcluster\u001b[0m\u001b[0;34m)\u001b[0m\u001b[0;34m\u001b[0m\u001b[0m\n\u001b[1;32m      6\u001b[0m     \u001b[0mprint\u001b[0m\u001b[0;34m(\u001b[0m\u001b[0mmeans\u001b[0m\u001b[0;34m)\u001b[0m\u001b[0;34m\u001b[0m\u001b[0m\n\u001b[0;32m----> 7\u001b[0;31m     \u001b[0mcost\u001b[0m \u001b[0;34m=\u001b[0m \u001b[0mgetClusteringCost\u001b[0m\u001b[0;34m(\u001b[0m\u001b[0mmatrix\u001b[0m\u001b[0;34m,\u001b[0m \u001b[0mmeans\u001b[0m\u001b[0;34m,\u001b[0m \u001b[0mcluster\u001b[0m\u001b[0;34m)\u001b[0m\u001b[0;34m\u001b[0m\u001b[0m\n\u001b[0m\u001b[1;32m      8\u001b[0m     \u001b[0mprint\u001b[0m\u001b[0;34m(\u001b[0m\u001b[0mcost\u001b[0m\u001b[0;34m)\u001b[0m\u001b[0;34m\u001b[0m\u001b[0m\n\u001b[1;32m      9\u001b[0m     \u001b[0mi\u001b[0m \u001b[0;34m=\u001b[0m \u001b[0;36m0\u001b[0m\u001b[0;34m\u001b[0m\u001b[0m\n",
      "\u001b[0;32m<ipython-input-51-03c7053c6b0b>\u001b[0m in \u001b[0;36mgetClusteringCost\u001b[0;34m(matrix, means_array, cluster_assignments)\u001b[0m\n\u001b[1;32m      3\u001b[0m     \u001b[0mcost\u001b[0m \u001b[0;34m=\u001b[0m \u001b[0;34m[\u001b[0m\u001b[0;34m]\u001b[0m\u001b[0;34m\u001b[0m\u001b[0m\n\u001b[1;32m      4\u001b[0m     \u001b[0;32mfor\u001b[0m \u001b[0mi\u001b[0m \u001b[0;32min\u001b[0m \u001b[0mrange\u001b[0m\u001b[0;34m(\u001b[0m\u001b[0mlen\u001b[0m\u001b[0;34m(\u001b[0m\u001b[0mmatrix\u001b[0m\u001b[0;34m)\u001b[0m\u001b[0;34m)\u001b[0m\u001b[0;34m:\u001b[0m\u001b[0;34m\u001b[0m\u001b[0m\n\u001b[0;32m----> 5\u001b[0;31m         \u001b[0mclusterMean\u001b[0m \u001b[0;34m=\u001b[0m \u001b[0mmeans_array\u001b[0m\u001b[0;34m[\u001b[0m\u001b[0mcluster_assignments\u001b[0m\u001b[0;34m[\u001b[0m\u001b[0mi\u001b[0m\u001b[0;34m]\u001b[0m\u001b[0;34m]\u001b[0m\u001b[0;34m\u001b[0m\u001b[0m\n\u001b[0m\u001b[1;32m      6\u001b[0m         \u001b[0mcost\u001b[0m\u001b[0;34m.\u001b[0m\u001b[0mappend\u001b[0m\u001b[0;34m(\u001b[0m\u001b[0;34m(\u001b[0m\u001b[0mmatrix\u001b[0m\u001b[0;34m[\u001b[0m\u001b[0mi\u001b[0m\u001b[0;34m]\u001b[0m\u001b[0;34m[\u001b[0m\u001b[0;36m0\u001b[0m\u001b[0;34m]\u001b[0m \u001b[0;34m-\u001b[0m \u001b[0mclusterMean\u001b[0m\u001b[0;34m[\u001b[0m\u001b[0;36m0\u001b[0m\u001b[0;34m]\u001b[0m\u001b[0;34m)\u001b[0m\u001b[0;34m**\u001b[0m\u001b[0;36m2\u001b[0m \u001b[0;34m+\u001b[0m \u001b[0;34m(\u001b[0m\u001b[0mmatrix\u001b[0m\u001b[0;34m[\u001b[0m\u001b[0mi\u001b[0m\u001b[0;34m]\u001b[0m\u001b[0;34m[\u001b[0m\u001b[0;36m1\u001b[0m\u001b[0;34m]\u001b[0m \u001b[0;34m-\u001b[0m \u001b[0mclusterMean\u001b[0m\u001b[0;34m[\u001b[0m\u001b[0;36m1\u001b[0m\u001b[0;34m]\u001b[0m\u001b[0;34m)\u001b[0m\u001b[0;34m**\u001b[0m\u001b[0;36m2\u001b[0m\u001b[0;34m)\u001b[0m\u001b[0;34m\u001b[0m\u001b[0m\n\u001b[1;32m      7\u001b[0m     \u001b[0;32mreturn\u001b[0m \u001b[0mnp\u001b[0m\u001b[0;34m.\u001b[0m\u001b[0msum\u001b[0m\u001b[0;34m(\u001b[0m\u001b[0mcost\u001b[0m\u001b[0;34m)\u001b[0m\u001b[0;34m\u001b[0m\u001b[0m\n",
      "\u001b[0;31mTypeError\u001b[0m: list indices must be integers or slices, not numpy.float64"
     ]
    }
   ],
   "source": [
    "# Cluster the data from data2.csv into 5 clusters using k-means clustering and\n",
    "# plot the data as a scatter plot with points colored based on their cluster assignment\n",
    "\n",
    "results, cost = kmeans(DATA, 5,10,500)\n",
    "print(cost)\n",
    "colors = ['blue', 'orange', 'green', 'magenta', 'yellow']\n",
    "for i in range(results.shape[0]):\n",
    "    x, y =  DATA[i]\n",
    "    plt.scatter(x, y, c=colors[results[i]], label=colors[results[i]], edgecolors='none')\n",
    "\n",
    "plt.show()"
   ]
  },
  {
   "cell_type": "markdown",
   "metadata": {
    "collapsed": true
   },
   "source": [
    "<P><font color=\"maroon\"><u>What is the cost associated with <em>k</em>-means clustering of the data from <code>data2.csv</code> into 5 clusters?<u></font></P>"
   ]
  },
  {
   "cell_type": "markdown",
   "metadata": {},
   "source": [
    "Your answer here. "
   ]
  },
  {
   "cell_type": "markdown",
   "metadata": {},
   "source": [
    "<H2>Task 5: Comparison to <code>sklearn</code> KMeans Clustering\n",
    "</H2>"
   ]
  },
  {
   "cell_type": "markdown",
   "metadata": {},
   "source": [
    "<P>Suppose we clustered the same data using two different algorithms. How can we assess the similarity of the two resulting clusterings? The FMI (Fowlkes-Mallows Index) is one measure of the similarity of two clusterings. The FMI score ranges between 0 and 1, where two unrelated clusterings have a score close to 0 and two highly similar clusterings have a score close to 1.</P>\n",
    "\n",
    "<P>As in Task 3 above, let's compare the similarity of results from two different clusterings using the FMI (Fowlkes-Mallows Index). The FMI score ranges between 0 and 1, where two unrelated clusterings have a score close to 0 and two highly similar clusterings have a score close to 1. Below, write code to cluster the data from <code>data2.csv</code> into 5 clusters using <a href=\"http://scikit-learn.org/stable/modules/generated/sklearn.cluster.KMeans.html\"><code>sklearn.cluster.KMeans</code></a>. Then, using the FMI, compare the similarity of the clustering assignments produced by your <em>k</em>-means clustering algorithm with the clustering assignments produced by <code>sklearn</code> KMeans clustering. To compute the FMI, you can use <a href=\"http://scikit-learn.org/stable/modules/generated/sklearn.metrics.fowlkes_mallows_score.html\"><code>sklearn.metrics.fowlkes_mallows_score</code></a>."
   ]
  },
  {
   "cell_type": "code",
   "execution_count": 57,
   "metadata": {},
   "outputs": [
    {
     "ename": "AttributeError",
     "evalue": "'function' object has no attribute 'labels_'",
     "output_type": "error",
     "traceback": [
      "\u001b[0;31m---------------------------------------------------------------------------\u001b[0m",
      "\u001b[0;31mAttributeError\u001b[0m                            Traceback (most recent call last)",
      "\u001b[0;32m<ipython-input-57-46dfc51a5ea6>\u001b[0m in \u001b[0;36m<module>\u001b[0;34m()\u001b[0m\n\u001b[1;32m      9\u001b[0m \u001b[0;34m\u001b[0m\u001b[0m\n\u001b[1;32m     10\u001b[0m \u001b[0mresults\u001b[0m \u001b[0;34m=\u001b[0m \u001b[0mKMeans\u001b[0m\u001b[0;34m(\u001b[0m\u001b[0mn_clusters\u001b[0m\u001b[0;34m=\u001b[0m\u001b[0;36m5\u001b[0m\u001b[0;34m,\u001b[0m \u001b[0mrandom_state\u001b[0m\u001b[0;34m=\u001b[0m\u001b[0;36m0\u001b[0m\u001b[0;34m)\u001b[0m\u001b[0;34m.\u001b[0m\u001b[0mfit\u001b[0m\u001b[0;34m(\u001b[0m\u001b[0mDATA\u001b[0m\u001b[0;34m)\u001b[0m\u001b[0;34m\u001b[0m\u001b[0m\n\u001b[0;32m---> 11\u001b[0;31m \u001b[0mkclusters\u001b[0m \u001b[0;34m=\u001b[0m \u001b[0mkmeans\u001b[0m\u001b[0;34m.\u001b[0m\u001b[0mlabels_\u001b[0m\u001b[0;34m\u001b[0m\u001b[0m\n\u001b[0m\u001b[1;32m     12\u001b[0m \u001b[0mfowlkes_mallows_score\u001b[0m\u001b[0;34m(\u001b[0m\u001b[0;34m[\u001b[0m\u001b[0mkclusters\u001b[0m\u001b[0;34m,\u001b[0m \u001b[0mresults\u001b[0m\u001b[0;34m]\u001b[0m\u001b[0;34m)\u001b[0m\u001b[0;34m\u001b[0m\u001b[0m\n",
      "\u001b[0;31mAttributeError\u001b[0m: 'function' object has no attribute 'labels_'"
     ]
    }
   ],
   "source": [
    "# Cluster the data from data2.csv into 5 clusters \n",
    "# using sklearn.cluster.KMeans.\n",
    "# Then compute the similarity of you k-means clustering \n",
    "# and the sklearn KMeans clustering using FMI.\n",
    "\n",
    "from sklearn.cluster import KMeans\n",
    "from sklearn.metrics.cluster import fowlkes_mallows_score\n",
    "\n",
    "\n",
    "results = KMeans(n_clusters=5, random_state=0).fit(DATA)\n",
    "kclusters = kmeans.labels_\n",
    "fowlkes_mallows_score([kclusters, results])"
   ]
  },
  {
   "cell_type": "markdown",
   "metadata": {},
   "source": [
    "<P><font color=\"maroon\"><u>You have now clustered the data from <code>data2.csv</code> into 5 clusters using your own <em>k</em>-means clustering algorithm and using the <code>sklearn.cluster.KMeans</code> clustering algorithm. What is the FMI associated with the two clusterings?<u></font></P>"
   ]
  },
  {
   "cell_type": "markdown",
   "metadata": {},
   "source": [
    "Your answer here. "
   ]
  },
  {
   "cell_type": "markdown",
   "metadata": {},
   "source": [
    "<H2>Submitting your work\n",
    "</H2>"
   ]
  },
  {
   "cell_type": "markdown",
   "metadata": {},
   "source": [
    "<P><font color=\"maroon\"><u>Please indicate your name and the names of any partner that worked with you on this project:</u></font></P>"
   ]
  },
  {
   "cell_type": "markdown",
   "metadata": {},
   "source": [
    "Name(s): Emily Yin & Shreya Parjan"
   ]
  },
  {
   "cell_type": "markdown",
   "metadata": {},
   "source": [
    "<P><font color=\"maroon\"><u>Please indicate anyone else that you collaborated with in the process of doing the project:</u></font></P>"
   ]
  },
  {
   "cell_type": "markdown",
   "metadata": {},
   "source": [
    "Collaborators: Anah Lewi"
   ]
  },
  {
   "cell_type": "markdown",
   "metadata": {},
   "source": [
    "<P><font color=\"maroon\"><u>If you or your partner is using a late coupon, please indicate who is using the coupon and how many coupons:</u></font></P>"
   ]
  },
  {
   "cell_type": "markdown",
   "metadata": {},
   "source": [
    "Late coupons: "
   ]
  },
  {
   "cell_type": "markdown",
   "metadata": {},
   "source": [
    "<P><font color=\"maroon\"><u>When working on this project, approximately how many hours did you spend on each of (1) Task 1, (2) Task 2, (3) Task 3, (4) Task 4, (5) Task 5, and (6) Total?</u></font></P>"
   ]
  },
  {
   "cell_type": "markdown",
   "metadata": {},
   "source": [
    "Hours on Task 1: 0.5\n",
    "Hours on Task 2: 4\n",
    "Hours on Task 3: 1\n",
    "Hours on Task 4: 4\n",
    "Hours on Task 5: 0.5\n",
    "Total hours: 10"
   ]
  },
  {
   "cell_type": "markdown",
   "metadata": {},
   "source": [
    "<P><font color=\"maroon\"><u>When working on this project, did you abide by the <a href=\"https://www.wellesley.edu/studentlife/aboutus/honor\">Honor Code</a> and is all of the work that you are submitting your own and/or your partner's?</u></font></P>"
   ]
  },
  {
   "cell_type": "markdown",
   "metadata": {},
   "source": [
    "Abide by Honor Code: Yes"
   ]
  },
  {
   "cell_type": "markdown",
   "metadata": {},
   "source": [
    "<P><font color=\"maroon\"><u>To submit this project, please upload your <code>Project5.ipynb</code> file to the <code>Project5</code> folder that the instructor created and shared with you in your Google drive.</u></font></P>"
   ]
  },
  {
   "cell_type": "code",
   "execution_count": null,
   "metadata": {},
   "outputs": [],
   "source": []
  }
 ],
 "metadata": {
  "kernelspec": {
   "display_name": "Python 3",
   "language": "python",
   "name": "python3"
  },
  "language_info": {
   "codemirror_mode": {
    "name": "ipython",
    "version": 3
   },
   "file_extension": ".py",
   "mimetype": "text/x-python",
   "name": "python",
   "nbconvert_exporter": "python",
   "pygments_lexer": "ipython3",
   "version": "3.6.5"
  }
 },
 "nbformat": 4,
 "nbformat_minor": 2
}
