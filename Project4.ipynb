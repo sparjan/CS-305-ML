{
 "cells": [
  {
   "cell_type": "markdown",
   "metadata": {},
   "source": [
    "<H1><center>Project 4<BR><BR>\n",
    "Recommender Systems</center></H1>\n",
    "    \n",
    "**UPDATE: Resubmitted 11/28! Happy Thanksgiving :) \"\n",
    "**Disclaimer: I ran out of late passes and wanted to at least submit the work I had completed so this version of my project 4 submission lacks much of task 3 at the moment.**"
   ]
  },
  {
   "cell_type": "markdown",
   "metadata": {},
   "source": [
    "<H2>Task 1: Algorithmic Bias\n",
    "</H2>"
   ]
  },
  {
   "cell_type": "markdown",
   "metadata": {},
   "source": [
    "<P>Read <a href=\"https://cacm.acm.org/magazines/2016/10/207759-battling-algorithmic-bias/abstract\">this article</a> about bias in algorithms.</P>\n",
    "\n",
    "<P>Please address (minimum 200 words) the following questions in the space below. As the article describes, \"common wisdom among programmers is to develop a pure algorithm that does not incorporate protected attributes into the model,\" where protected classes may include aspects such as race, gender, age, sexual orientation, and disability status. As a result, the algorithms can be bias. How might algorithms be evaluated for bias? Are there machine learning applications where you would sacrifice accuracy in order to reduce bias? Are there machine learning applications where you would allow bias in order to increase accuracy?</P>"
   ]
  },
  {
   "cell_type": "markdown",
   "metadata": {
    "collapsed": true
   },
   "source": [
    "Generally, I think that the developers of algorithms should attempt to reduce bias between groups of different protected classes while compromising the performance of the model as little as possible. I prioritize reducing bias because I believe that most often, the groups that will be disproportionately endangered by biased algorithms will be those that are already most at risk in society. I believe that there are several ways to evaluate algorithms for bias: First, we can examine how an algorithm performs on more diverse sets of testing data. In doing so, it is important to protect the privacy of diverse people represented in the data and ensure that their information cannot be traced back to them. Furthermore, we can also adjust our model to explore more complex relationships in data that might require it to go beyond a surface-level understanding of patterns involving complex human characteristics. I would sacrifice accuracy to reduce bias in issues that are more interpersonal in nature but don't have an underlying premise of improving safety: for instance, hiring. Conversely, I would allow for some bias in applications where immediate safety is directly concerned. Nonetheless, I remain concerned that if we allow for only the majority to be protected by our algorithms, we risk harming already vulnerable populations."
   ]
  },
  {
   "cell_type": "markdown",
   "metadata": {},
   "source": [
    "<H2>Task 2: Collaborative Filtering\n",
    "</H2>"
   ]
  },
  {
   "cell_type": "markdown",
   "metadata": {},
   "source": [
    "<P>In this task, you will use collaborative filtering to predict how a person might rate a business. Ratings are numbers between 1 and 5 corresponding, for example, to how many stars a person gives the business in a review. The data comes from the <a href=\"https://www.yelp.com/dataset/challenge\">Yelp Dataset Challenge</a>.</P>"
   ]
  },
  {
   "cell_type": "markdown",
   "metadata": {},
   "source": [
    "<P>To begin, read in the <code>training.csv</code> file containing <em>training</em> data. Unlike many other <code>CSV</code> files that we have worked with previously, the data are not in matrix form (rows and columns) here, but rather a list. Each line in the file contains three comma delimited values: the first corresponds to the ID of a person (user), the second correspond to the ID of a business (item), and the third corresponds to the rating (1 through 5) that the person gave the business in a review. The file contains over 80,000 lines, i.e., over 80,000 ratings that people gave to businesses. Write code below to create a user-item matrix, as described in class, from the data in the file. For each line in the file, you can think of the user (person) ID as indicating the row in the user-item matrix, the item (business) ID as indicating the column in the user-item matrix, and the rating as the value to be inserted in the user-item matrix at the specified row and column. Note that your user-item matrix will have many more than 80,000 entries even though the data contain only ~80,000 ratings. Thus, the matrix will be sparse, i.e., most values in the matrix should correspond to zero since each person rates only a small subset of all businesses.</P>"
   ]
  },
  {
   "cell_type": "code",
   "execution_count": 1,
   "metadata": {},
   "outputs": [
    {
     "data": {
      "text/html": [
       "<div>\n",
       "<style scoped>\n",
       "    .dataframe tbody tr th:only-of-type {\n",
       "        vertical-align: middle;\n",
       "    }\n",
       "\n",
       "    .dataframe tbody tr th {\n",
       "        vertical-align: top;\n",
       "    }\n",
       "\n",
       "    .dataframe thead th {\n",
       "        text-align: right;\n",
       "    }\n",
       "</style>\n",
       "<table border=\"1\" class=\"dataframe\">\n",
       "  <thead>\n",
       "    <tr style=\"text-align: right;\">\n",
       "      <th></th>\n",
       "      <th>0</th>\n",
       "      <th>1</th>\n",
       "      <th>2</th>\n",
       "    </tr>\n",
       "  </thead>\n",
       "  <tbody>\n",
       "    <tr>\n",
       "      <th>0</th>\n",
       "      <td>4</td>\n",
       "      <td>323</td>\n",
       "      <td>5</td>\n",
       "    </tr>\n",
       "    <tr>\n",
       "      <th>1</th>\n",
       "      <td>830</td>\n",
       "      <td>1831</td>\n",
       "      <td>3</td>\n",
       "    </tr>\n",
       "    <tr>\n",
       "      <th>2</th>\n",
       "      <td>440</td>\n",
       "      <td>167</td>\n",
       "      <td>5</td>\n",
       "    </tr>\n",
       "    <tr>\n",
       "      <th>3</th>\n",
       "      <td>302</td>\n",
       "      <td>1801</td>\n",
       "      <td>5</td>\n",
       "    </tr>\n",
       "    <tr>\n",
       "      <th>4</th>\n",
       "      <td>917</td>\n",
       "      <td>3050</td>\n",
       "      <td>4</td>\n",
       "    </tr>\n",
       "  </tbody>\n",
       "</table>\n",
       "</div>"
      ],
      "text/plain": [
       "     0     1  2\n",
       "0    4   323  5\n",
       "1  830  1831  3\n",
       "2  440   167  5\n",
       "3  302  1801  5\n",
       "4  917  3050  4"
      ]
     },
     "execution_count": 1,
     "metadata": {},
     "output_type": "execute_result"
    }
   ],
   "source": [
    "# Read in training data and create user-item matrix\n",
    "import numpy as np\n",
    "import pandas as pd\n",
    "df = pd.read_csv('training.csv', header=None)\n",
    "rows = df[0]\n",
    "cols = df[1]\n",
    "ratings = df[2]\n",
    "df.head()"
   ]
  },
  {
   "cell_type": "code",
   "execution_count": 2,
   "metadata": {},
   "outputs": [],
   "source": [
    "df.columns = ['User','Item','ItemRating']\n",
    "sparse = df.pivot(index='User', columns='Item', values='ItemRating')"
   ]
  },
  {
   "cell_type": "markdown",
   "metadata": {},
   "source": [
    "<P>Ultimately, our goal is to use filled-in (i.e., non-zero) values in the user-item matrix to predict empty (i.e., zero) values in the user-item matrix. In other words, we want to predict how a person might rate a business, based on how a person has rated other businesses or how a business has been rated by other people. Collaborative filtering.</P>"
   ]
  },
  {
   "cell_type": "markdown",
   "metadata": {
    "collapsed": true
   },
   "source": [
    "<P>Below, write a function named <code>prediction</code> that predicts a value (i.e., rating) for a given location (row index and column index) in the user-item matrix. Your prediction algorithm should proceed as follows:<BR>\n",
    "<UL>\n",
    "<li>Determine all rows in the matrix that contain non-zero values in the specified column. This will give us information on all people that rated the business of interest.</li>\n",
    "<li>Using the <code>sklearn</code> unsupervised <code><a href=\"http://scikit-learn.org/stable/modules/neighbors.html\">NearestNeighbors</a></code> algorithm, for the specified row in the user-item matrix, compute the <em>k</em> nearest neighbors among the rows that contain non-zero values in the specified column. This will give us the <em>k</em> most similar people that rated the business of interest. You should use the <code>cosine</code> metric in the <code>NearestNeighbors</code> algorithm for computing distance between rows in a matrix. If there are fewer than <em>k</em> people who have rated the business, you can use everyone who rated the business rather than the <em>k</em> most similar people (since there aren't <em>k</em> such people.</li>\n",
    "<li>For the <em>k</em> nearest neighbors of the specified row, compute and return the mean value for the specified column. This will give us the average rating of the business from the <em>k</em> most similar people to the person of interest. In other words, we are predicting how someone will rate a business based on the ratings of similar people who have already rated the business.</li>\n",
    "</UL><BR>\n",
    "Your <code>prediction</code> function should have at least four inputs: your user-item matrix, a paramter <em>k</em>, a specified row, and a specified column (as well as any other input parameters that you deem helpful). "
   ]
  },
  {
   "cell_type": "code",
   "execution_count": 3,
   "metadata": {},
   "outputs": [],
   "source": [
    "# The *prediction* function takes in four (or more) parameters corresponding to\n",
    "# the user-item matrix, k, the row (person) index, and the column (business) index.\n",
    "# The function returns the average (mean) rating of a business from the k most\n",
    "# similar people to the specified person.\n",
    "\n",
    "from sklearn.neighbors import NearestNeighbors\n",
    "\n",
    "def prediction(ui, k, row, col):\n",
    "    item = ui[:][col] #all users at specific column\n",
    "    xrow = ui.iloc[row].fillna(0) #user that we want to find rating for\n",
    "    xrow = xrow.as_matrix()\n",
    "    itemRows = np.argwhere(item.notnull().values).tolist()\n",
    "    \n",
    "    userRows = [] #make flat version of itemRows\n",
    "    for sublist in itemRows:\n",
    "        for i in sublist:\n",
    "            userRows.append(i)\n",
    "            \n",
    "    #make a new dataframe of users that have ratings at specified columns\n",
    "    df2 = ui.iloc[userRows]\n",
    "    df2 = df2.fillna(0)\n",
    "    \n",
    "    #set # of neighbors depending on number of matching users\n",
    "    if df2.shape[0] >= k:\n",
    "        model = NearestNeighbors(metric='cosine', n_neighbors=k).fit(df2)\n",
    "    if df2.shape[0] < k:\n",
    "        model = NearestNeighbors(metric='cosine', n_neighbors=df2.shape[0]).fit(df2)\n",
    "    \n",
    "    #find neighbors for user of interest at column of interest\n",
    "    dist, indices = model.kneighbors(xrow.reshape(1,-1))\n",
    "    \n",
    "    #compute average rating based on ratings of neighbors\n",
    "    avgList = []\n",
    "    for row in indices[0]:\n",
    "        avgList.append(df2.iloc[row][col])\n",
    "    mean = np.mean(avgList)\n",
    "    return(mean)"
   ]
  },
  {
   "cell_type": "markdown",
   "metadata": {},
   "source": [
    "<P>Let's evaluate how well we do at predicting people's ratings of businesses. The file <code>testing.csv</code> contains approximately 4,000 ratings that different people have given to different businesses. These <em>testing</em> ratings correspond to ~4,000 entries in the user-item matrix that contain zero values. So we can use the user-item matrix (our <em>training</em> data) to predict ratings in these ~4,000 cases and compare our predictions to the actual rating found in the <em>testing</em> data in order to see how accurate our predicted ratings are.</P>"
   ]
  },
  {
   "cell_type": "markdown",
   "metadata": {},
   "source": [
    "<P>Write code below that reads in <em>testing</em> data from <code>testing.csv</code>. Each line in the file contains three comma delimited values: the first corresponds to the ID of a person (user), the second correspond to the ID of a business (item), and the third corresponds to the rating (1 through 5) that the person gave the business in a review. For each line, use the <code>prediction</code> function that you wrote above to predict the rating that the specified user might give the specified business. Keep track of this predicted rating as well as the actual rating from the <em>testing</em> data. After processing all lines in the <em>testing</em> file, you should have ~4,000 predicted ratings and the same number of actual ratings. To compare how far our predictions are from the actual ratings, we'll compute the root mean-squared error (RMSE) between the two, e.g., by computing the square root of the <a href=\"http://scikit-learn.org/stable/modules/generated/sklearn.metrics.mean_squared_error.html\">mean-squared error</a> (MSE). As a point of reference, the instructor found a RMSE a bit under 1.0 depending on the value of <em>k</em> used, i.e., the predicted ratings were a bit less than 1 \"star\" from the actual ratings on average. Try computing the RMSE on the <em>testing</em> data for each of the following eleven values for the parameter <em>k</em>: 1, 5, 10, 15, 20, 25, 30, 35, 40, 45, 50.</P>"
   ]
  },
  {
   "cell_type": "code",
   "execution_count": 4,
   "metadata": {},
   "outputs": [
    {
     "name": "stderr",
     "output_type": "stream",
     "text": [
      "/anaconda3/lib/python3.6/site-packages/ipykernel_launcher.py:11: FutureWarning: Method .as_matrix will be removed in a future version. Use .values instead.\n",
      "  # This is added back by InteractiveShellApp.init_path()\n"
     ]
    },
    {
     "data": {
      "text/plain": [
       "array([4.1, 3.5, 3.9, ..., 4.1, 3.9, 3.9])"
      ]
     },
     "execution_count": 4,
     "metadata": {},
     "output_type": "execute_result"
    }
   ],
   "source": [
    "# Read in testing data and for each line in the file,\n",
    "# calculate the predicted rating of the specified person and business.\n",
    "# Compare the predicted ratings with the actual ratings in the testing data\n",
    "# by computing the root mean-squared error (RMSE).\n",
    "# Compute the RMSE for 11 different values of parameter k: 1,5,10,15,20,25,30,35,40,45,50\n",
    "\n",
    "df = pd.read_csv('testing.csv', header=None)\n",
    "df.columns = ['User','Item','ItemRating']\n",
    "df.columns = ['User','Item','ItemRating']\n",
    "\n",
    "results = df[['ItemRating']]\n",
    "\n",
    "df = df.drop(columns=['ItemRating'])\n",
    "df.head()\n",
    "ratings = np.zeros(df.shape[0])\n",
    "for i in range(df.shape[0]):\n",
    "    ratings[i] = prediction(sparse,10,df.iloc[i][0],df.iloc[i][1])\n",
    "ratings"
   ]
  },
  {
   "cell_type": "code",
   "execution_count": 5,
   "metadata": {},
   "outputs": [
    {
     "data": {
      "text/plain": [
       "array([5, 3, 4, ..., 5, 4, 4])"
      ]
     },
     "execution_count": 5,
     "metadata": {},
     "output_type": "execute_result"
    }
   ],
   "source": [
    "trueList = [] #make flat version of results.values\n",
    "for sublist in results.values:\n",
    "    for i in sublist:\n",
    "        trueList.append(i)\n",
    "trueArr = np.asarray(trueList)\n",
    "trueArr"
   ]
  },
  {
   "cell_type": "code",
   "execution_count": 6,
   "metadata": {},
   "outputs": [
    {
     "data": {
      "text/plain": [
       "0.8743359918901499"
      ]
     },
     "execution_count": 6,
     "metadata": {},
     "output_type": "execute_result"
    }
   ],
   "source": [
    "from sklearn.metrics import mean_squared_error\n",
    "y_true = trueArr\n",
    "y_pred = ratings\n",
    "mean_squared_error(y_true, y_pred)"
   ]
  },
  {
   "cell_type": "code",
   "execution_count": 7,
   "metadata": {},
   "outputs": [
    {
     "name": "stderr",
     "output_type": "stream",
     "text": [
      "/anaconda3/lib/python3.6/site-packages/ipykernel_launcher.py:11: FutureWarning: Method .as_matrix will be removed in a future version. Use .values instead.\n",
      "  # This is added back by InteractiveShellApp.init_path()\n"
     ]
    }
   ],
   "source": [
    "ks = [1, 5, 10, 15, 20, 25, 30, 35, 40, 45, 50]\n",
    "ratingsK = np.zeros((len(ks),df.shape[0]))\n",
    "rmsArr = np.zeros(len(ks))\n",
    "for k in range(len(ks)):\n",
    "    for i in range(df.shape[0]):\n",
    "        ratingsK[k][i] = prediction(sparse,ks[k],df.iloc[i][0],df.iloc[i][1])\n",
    "    rmsArr[k] = mean_squared_error(y_true, ratingsK[k])"
   ]
  },
  {
   "cell_type": "code",
   "execution_count": 8,
   "metadata": {},
   "outputs": [
    {
     "data": {
      "text/plain": [
       "array([1.44915062, 0.94519466, 0.87433599, 0.86201803, 0.85863899,\n",
       "       0.85894258, 0.8591207 , 0.8597084 , 0.8596854 , 0.85918819,\n",
       "       0.86063692])"
      ]
     },
     "execution_count": 8,
     "metadata": {},
     "output_type": "execute_result"
    }
   ],
   "source": [
    "rmsArr"
   ]
  },
  {
   "cell_type": "markdown",
   "metadata": {
    "collapsed": true
   },
   "source": [
    "<P><font color=\"maroon\"><u>For which of the eleven values of <em>k</em> do you observe the smallest RMSE? What is the RMSE at this optimal value of <em>k</em>?<u></font></P>"
   ]
  },
  {
   "cell_type": "markdown",
   "metadata": {
    "collapsed": true
   },
   "source": [
    "The lowest RMSE was 0.85863899 at k = 20"
   ]
  },
  {
   "cell_type": "markdown",
   "metadata": {
    "collapsed": true
   },
   "source": [
    "<P>Above, you predicted how a user might rate a business by seeing how similar users rated the same business (and taking the average value of these similar users' ratings of the business). As an alternative method for predicting the rating a user might give to a business, we could look at similar <em>businesses</em> rather than similar <em>users</em>. In this alternative approach, we will take our user and find similar <em>businesses</em> that they have rated. Our predicted rating will be the mean value of the user's ratings of <em>k</em> similar businesses. Below, write code to compute the RMSE between predicted ratings and actual ratings using eleven different values for the parameter <em>k</em>: 1, 5, 10, 15, 20, 25, 30, 35, 40, 45, 50. Predicted ratings should be determined by calculating, among businesses rated by a specified user, the average rating that the user gave to the <em>k</em> most similar businesses. <em>Hint: You needn't change your <code>prediction</code> function above. Changing a single line of code elsewhere may be sufficient.</em></P>"
   ]
  },
  {
   "cell_type": "code",
   "execution_count": 9,
   "metadata": {},
   "outputs": [
    {
     "data": {
      "text/html": [
       "<div>\n",
       "<style scoped>\n",
       "    .dataframe tbody tr th:only-of-type {\n",
       "        vertical-align: middle;\n",
       "    }\n",
       "\n",
       "    .dataframe tbody tr th {\n",
       "        vertical-align: top;\n",
       "    }\n",
       "\n",
       "    .dataframe thead th {\n",
       "        text-align: right;\n",
       "    }\n",
       "</style>\n",
       "<table border=\"1\" class=\"dataframe\">\n",
       "  <thead>\n",
       "    <tr style=\"text-align: right;\">\n",
       "      <th>User</th>\n",
       "      <th>0</th>\n",
       "      <th>1</th>\n",
       "      <th>2</th>\n",
       "      <th>3</th>\n",
       "      <th>4</th>\n",
       "      <th>5</th>\n",
       "      <th>6</th>\n",
       "      <th>7</th>\n",
       "      <th>8</th>\n",
       "      <th>9</th>\n",
       "      <th>...</th>\n",
       "      <th>908</th>\n",
       "      <th>909</th>\n",
       "      <th>910</th>\n",
       "      <th>911</th>\n",
       "      <th>912</th>\n",
       "      <th>913</th>\n",
       "      <th>914</th>\n",
       "      <th>915</th>\n",
       "      <th>916</th>\n",
       "      <th>917</th>\n",
       "    </tr>\n",
       "    <tr>\n",
       "      <th>Item</th>\n",
       "      <th></th>\n",
       "      <th></th>\n",
       "      <th></th>\n",
       "      <th></th>\n",
       "      <th></th>\n",
       "      <th></th>\n",
       "      <th></th>\n",
       "      <th></th>\n",
       "      <th></th>\n",
       "      <th></th>\n",
       "      <th></th>\n",
       "      <th></th>\n",
       "      <th></th>\n",
       "      <th></th>\n",
       "      <th></th>\n",
       "      <th></th>\n",
       "      <th></th>\n",
       "      <th></th>\n",
       "      <th></th>\n",
       "      <th></th>\n",
       "      <th></th>\n",
       "    </tr>\n",
       "  </thead>\n",
       "  <tbody>\n",
       "    <tr>\n",
       "      <th>0</th>\n",
       "      <td>4.0</td>\n",
       "      <td>NaN</td>\n",
       "      <td>NaN</td>\n",
       "      <td>NaN</td>\n",
       "      <td>NaN</td>\n",
       "      <td>NaN</td>\n",
       "      <td>NaN</td>\n",
       "      <td>NaN</td>\n",
       "      <td>NaN</td>\n",
       "      <td>NaN</td>\n",
       "      <td>...</td>\n",
       "      <td>NaN</td>\n",
       "      <td>NaN</td>\n",
       "      <td>NaN</td>\n",
       "      <td>NaN</td>\n",
       "      <td>NaN</td>\n",
       "      <td>NaN</td>\n",
       "      <td>NaN</td>\n",
       "      <td>5.0</td>\n",
       "      <td>NaN</td>\n",
       "      <td>NaN</td>\n",
       "    </tr>\n",
       "    <tr>\n",
       "      <th>1</th>\n",
       "      <td>4.0</td>\n",
       "      <td>NaN</td>\n",
       "      <td>NaN</td>\n",
       "      <td>NaN</td>\n",
       "      <td>NaN</td>\n",
       "      <td>NaN</td>\n",
       "      <td>NaN</td>\n",
       "      <td>NaN</td>\n",
       "      <td>NaN</td>\n",
       "      <td>NaN</td>\n",
       "      <td>...</td>\n",
       "      <td>NaN</td>\n",
       "      <td>NaN</td>\n",
       "      <td>5.0</td>\n",
       "      <td>NaN</td>\n",
       "      <td>NaN</td>\n",
       "      <td>NaN</td>\n",
       "      <td>NaN</td>\n",
       "      <td>3.0</td>\n",
       "      <td>NaN</td>\n",
       "      <td>NaN</td>\n",
       "    </tr>\n",
       "    <tr>\n",
       "      <th>2</th>\n",
       "      <td>2.0</td>\n",
       "      <td>NaN</td>\n",
       "      <td>NaN</td>\n",
       "      <td>NaN</td>\n",
       "      <td>NaN</td>\n",
       "      <td>NaN</td>\n",
       "      <td>NaN</td>\n",
       "      <td>NaN</td>\n",
       "      <td>NaN</td>\n",
       "      <td>NaN</td>\n",
       "      <td>...</td>\n",
       "      <td>NaN</td>\n",
       "      <td>NaN</td>\n",
       "      <td>NaN</td>\n",
       "      <td>NaN</td>\n",
       "      <td>NaN</td>\n",
       "      <td>NaN</td>\n",
       "      <td>NaN</td>\n",
       "      <td>3.0</td>\n",
       "      <td>NaN</td>\n",
       "      <td>NaN</td>\n",
       "    </tr>\n",
       "    <tr>\n",
       "      <th>3</th>\n",
       "      <td>4.0</td>\n",
       "      <td>NaN</td>\n",
       "      <td>NaN</td>\n",
       "      <td>NaN</td>\n",
       "      <td>NaN</td>\n",
       "      <td>NaN</td>\n",
       "      <td>NaN</td>\n",
       "      <td>NaN</td>\n",
       "      <td>NaN</td>\n",
       "      <td>NaN</td>\n",
       "      <td>...</td>\n",
       "      <td>NaN</td>\n",
       "      <td>NaN</td>\n",
       "      <td>3.0</td>\n",
       "      <td>NaN</td>\n",
       "      <td>NaN</td>\n",
       "      <td>NaN</td>\n",
       "      <td>NaN</td>\n",
       "      <td>NaN</td>\n",
       "      <td>NaN</td>\n",
       "      <td>NaN</td>\n",
       "    </tr>\n",
       "    <tr>\n",
       "      <th>4</th>\n",
       "      <td>2.0</td>\n",
       "      <td>NaN</td>\n",
       "      <td>NaN</td>\n",
       "      <td>NaN</td>\n",
       "      <td>NaN</td>\n",
       "      <td>NaN</td>\n",
       "      <td>NaN</td>\n",
       "      <td>NaN</td>\n",
       "      <td>NaN</td>\n",
       "      <td>NaN</td>\n",
       "      <td>...</td>\n",
       "      <td>NaN</td>\n",
       "      <td>NaN</td>\n",
       "      <td>NaN</td>\n",
       "      <td>NaN</td>\n",
       "      <td>NaN</td>\n",
       "      <td>NaN</td>\n",
       "      <td>NaN</td>\n",
       "      <td>NaN</td>\n",
       "      <td>NaN</td>\n",
       "      <td>NaN</td>\n",
       "    </tr>\n",
       "  </tbody>\n",
       "</table>\n",
       "<p>5 rows × 918 columns</p>\n",
       "</div>"
      ],
      "text/plain": [
       "User  0    1    2    3    4    5    6    7    8    9   ...   908  909  910  \\\n",
       "Item                                                   ...                   \n",
       "0     4.0  NaN  NaN  NaN  NaN  NaN  NaN  NaN  NaN  NaN ...   NaN  NaN  NaN   \n",
       "1     4.0  NaN  NaN  NaN  NaN  NaN  NaN  NaN  NaN  NaN ...   NaN  NaN  5.0   \n",
       "2     2.0  NaN  NaN  NaN  NaN  NaN  NaN  NaN  NaN  NaN ...   NaN  NaN  NaN   \n",
       "3     4.0  NaN  NaN  NaN  NaN  NaN  NaN  NaN  NaN  NaN ...   NaN  NaN  3.0   \n",
       "4     2.0  NaN  NaN  NaN  NaN  NaN  NaN  NaN  NaN  NaN ...   NaN  NaN  NaN   \n",
       "\n",
       "User  911  912  913  914  915  916  917  \n",
       "Item                                     \n",
       "0     NaN  NaN  NaN  NaN  5.0  NaN  NaN  \n",
       "1     NaN  NaN  NaN  NaN  3.0  NaN  NaN  \n",
       "2     NaN  NaN  NaN  NaN  3.0  NaN  NaN  \n",
       "3     NaN  NaN  NaN  NaN  NaN  NaN  NaN  \n",
       "4     NaN  NaN  NaN  NaN  NaN  NaN  NaN  \n",
       "\n",
       "[5 rows x 918 columns]"
      ]
     },
     "execution_count": 9,
     "metadata": {},
     "output_type": "execute_result"
    }
   ],
   "source": [
    "# Read in testing data and for each line in the file,\n",
    "# calculate the predicted rating of the specified person and business.\n",
    "# Compare the predicted ratings with the actual ratings in the testing data\n",
    "# by computing the root mean-squared error (RMSE).\n",
    "# Compute the RMSE for 11 different values of parameter k: 1,5,10,15,20,25,30,35,40,45,50\n",
    "\n",
    "df3 = pd.read_csv('training.csv', header=None)\n",
    "df3.columns = ['User','Item','ItemRating']\n",
    "sparse3 = df3.pivot(index='Item', columns='User', values='ItemRating')\n",
    "sparse3.head()"
   ]
  },
  {
   "cell_type": "code",
   "execution_count": 10,
   "metadata": {},
   "outputs": [
    {
     "name": "stderr",
     "output_type": "stream",
     "text": [
      "/anaconda3/lib/python3.6/site-packages/ipykernel_launcher.py:11: FutureWarning: Method .as_matrix will be removed in a future version. Use .values instead.\n",
      "  # This is added back by InteractiveShellApp.init_path()\n"
     ]
    },
    {
     "data": {
      "text/plain": [
       "array([3.9, 3.5, 3.7, ..., 2.9, 3.5, 3.5])"
      ]
     },
     "execution_count": 10,
     "metadata": {},
     "output_type": "execute_result"
    }
   ],
   "source": [
    "df3T = pd.read_csv('testing.csv', header=None)\n",
    "df3T.columns = ['User','Item','ItemRating']\n",
    "df3T.columns = ['User','Item','ItemRating']\n",
    "\n",
    "results3 = df3T[['ItemRating']]\n",
    "\n",
    "df3T = df3T.drop(columns=['ItemRating'])\n",
    "df3T.head()\n",
    "\n",
    "ratings = np.zeros(df3T.shape[0])\n",
    "for i in range(df3T.shape[0]):\n",
    "    ratings[i] = prediction(sparse3,10,df3T.iloc[i][1],df3T.iloc[i][0])\n",
    "ratings"
   ]
  },
  {
   "cell_type": "code",
   "execution_count": 11,
   "metadata": {},
   "outputs": [
    {
     "data": {
      "text/plain": [
       "array([5, 3, 4, ..., 5, 4, 4])"
      ]
     },
     "execution_count": 11,
     "metadata": {},
     "output_type": "execute_result"
    }
   ],
   "source": [
    "trueList = [] #make flat version of results.values\n",
    "for sublist in results3.values:\n",
    "    for i in sublist:\n",
    "        trueList.append(i)\n",
    "trueArr = np.asarray(trueList)\n",
    "trueArr"
   ]
  },
  {
   "cell_type": "code",
   "execution_count": 12,
   "metadata": {},
   "outputs": [
    {
     "name": "stderr",
     "output_type": "stream",
     "text": [
      "/anaconda3/lib/python3.6/site-packages/ipykernel_launcher.py:11: FutureWarning: Method .as_matrix will be removed in a future version. Use .values instead.\n",
      "  # This is added back by InteractiveShellApp.init_path()\n"
     ]
    }
   ],
   "source": [
    "ksT = [1, 5, 10, 15, 20, 25, 30, 35, 40, 45, 50]\n",
    "ratingsKT = np.zeros((len(ksT),df3T.shape[0]))\n",
    "rmsArrT = np.zeros(len(ksT))\n",
    "for k in range(len(ksT)):\n",
    "    for i in range(df3T.shape[0]):\n",
    "        ratingsKT[k][i] = prediction(sparse3,ksT[k],df3T.iloc[i][1],df3T.iloc[i][0])\n",
    "    rmsArrT[k] = mean_squared_error(trueArr, ratingsKT[k])"
   ]
  },
  {
   "cell_type": "code",
   "execution_count": 13,
   "metadata": {},
   "outputs": [
    {
     "data": {
      "text/plain": [
       "array([1.59479049, 0.95605889, 0.88927366, 0.86871762, 0.85748533,\n",
       "       0.85316512, 0.84970183, 0.84752743, 0.84711902, 0.84662163,\n",
       "       0.84849161])"
      ]
     },
     "execution_count": 13,
     "metadata": {},
     "output_type": "execute_result"
    }
   ],
   "source": [
    "rmsArrT"
   ]
  },
  {
   "cell_type": "markdown",
   "metadata": {
    "collapsed": true
   },
   "source": [
    "<P><font color=\"maroon\"><u>For which of the eleven values of <em>k</em> do you observe the smallest RMSE? What is the RMSE at this optimal value of <em>k</em>?<u></font></P>"
   ]
  },
  {
   "cell_type": "markdown",
   "metadata": {
    "collapsed": true
   },
   "source": [
    "Smallest RMSE = 0.84662163 at k = 45"
   ]
  },
  {
   "cell_type": "markdown",
   "metadata": {
    "collapsed": true
   },
   "source": [
    "<P><font color=\"maroon\"><u>For their optimal values of parameter <em>k</em>, which approach led to more accurate predictions: (1) among users that have rated a business, finding the average rating that the <em>k</em> most similar users gave the business or (2) among businesses rated by a user, finding the average rating that the user gave to the <em>k</em> most similar businesses?<u></font></P>"
   ]
  },
  {
   "cell_type": "markdown",
   "metadata": {
    "collapsed": true
   },
   "source": [
    "(2) led to more accurate predictions since we achieved a lower RMSE than from (1)"
   ]
  },
  {
   "cell_type": "markdown",
   "metadata": {
    "collapsed": true
   },
   "source": [
    "<H2>Task 3: Content Based Recommendations\n",
    "</H2>"
   ]
  },
  {
   "cell_type": "markdown",
   "metadata": {
    "collapsed": true
   },
   "source": [
    "<P>In Task 2 above, you predicted ratings based only on other ratings, e.g., based on the ratings different users gave the same business or based on ratings the same user gave different businesses. But what if you used other data about users or businesses to make predictions? For example, you might consider a business's type, market, location, or revenue when making predictions or a user's demographic info, spending habits, or preference for different business types when making predictions. Content based recommendations.</P>"
   ]
  },
  {
   "cell_type": "markdown",
   "metadata": {},
   "source": [
    "<P>Here, we will consider the text of users' reviews of businesses to predict whether a user is likely to write a review of some other business or not. We will again use data from the <a href=\"https://www.yelp.com/dataset/challenge\">Yelp Dataset Challenge</a> but this time, rather than using ratings (1 through 5), we will use reviews (e.g., \"Food was great, service was fast. I would eat here again.\").\n",
    "</P>"
   ]
  },
  {
   "cell_type": "markdown",
   "metadata": {},
   "source": [
    "<P>To begin, read in the file <code>businesses.txt</code>, which contains the reviews of ~3,000 businesses in the Las Vegas area. Each line of the file contains the ID of a business followed by a tab followed by all the reviews for the business concatenated together. Thus, if 30 people reviewed a particular business, the line in the file corresponding to the business would have the business's ID followed by all 30 reviews aggregated together. You should store the business IDs in one list and the corresponding business reviews in a second list that will serve as a corpus of text documents.</P>"
   ]
  },
  {
   "cell_type": "code",
   "execution_count": 17,
   "metadata": {},
   "outputs": [],
   "source": [
    "# Read in file containing business IDs and business reviews.\n",
    "# Create two lists, one to store business IDs and one to store business reviews.\n",
    "\n",
    "data = []\n",
    "filereader = open('businesses.txt','r')\n",
    "file = filereader.readline()\n",
    "while(file):\n",
    "    file = file.replace('\\n','').replace('\\\\n','').replace('\\\\','').split('\\t')\n",
    "    data.append(file)\n",
    "    file = filereader.readline()\n",
    "filereader.close()\n",
    "ids = [file[0] for file in data]\n",
    "revs = [file[1] for file in data]"
   ]
  },
  {
   "cell_type": "markdown",
   "metadata": {},
   "source": [
    "<P>Featurize the corpus of business reviews as bag-of-words and TF-IDF weighting (remember Exercise 3?) using <code>sklearn</code>'s <a href=\"http://scikit-learn.org/stable/modules/generated/sklearn.feature_extraction.text.TfidfVectorizer.html\"><code>TfidVectorizer</code></a>. Use both bi-grams and uni-grams for features rather than just uni-grams. With uni-grams, we might have ~80,000 features, but with bi-grams as well, we'll have ~2 million features.\n",
    "<em>HINT: by default, the <code>transform</code> and <code>fit_transform</code> functions of a <code>TfidfVectorizer</code> will return sparse matrices, which are efficient to work with. In some cases, invoking the <code>toarray</code> function is desirable to convert the matrices to traditional <code>numpy</code> arrays, but in this case, you should not use the <code>toarray</code> function as working with the default sparse matrices is important for efficiency given the large size of the dataset that you are working with.</em></P>"
   ]
  },
  {
   "cell_type": "code",
   "execution_count": 22,
   "metadata": {},
   "outputs": [],
   "source": [
    "# Extract features from text of reviews using bag-of-words with TF-IDF weighting.\n",
    "# As features, use bi-grams rather than uni-grams.\n",
    "from sklearn.feature_extraction.text import TfidfVectorizer\n",
    "v = TfidfVectorizer(ngram_range=(1, 2),smooth_idf=True)\n",
    "X_train = v.fit_transform(revs)"
   ]
  },
  {
   "cell_type": "markdown",
   "metadata": {},
   "source": [
    "<P>The <em>testing</em> data relates to 400 users and comes in two files. The file <code>test_reviews.txt</code> contains 400 lines, one for each user, where each line contains a user's ID followed by a tab followed by the text of all the user's reviews concatenated together. The file <code>test_business.txt</code> also contains 400 lines, one for each user, where each line contains a user's ID followed by a tab followed by a tab delimited list of business IDs for the businesses that the user has reviewed. Below, write code to read in the data from the two files, <code>test_reviews.txt</code> and <code>test_business.txt</code>. For the text of users' reviews, you should featurize the text using the <code>TfidVectorizer</code> that you instantiated and trained above, so that you will have matrix (array) with 400 rows (one per user) and over 2 million columns (corresponding to the bi-gram features). <em>HINT: once again, it is recommended that after invoking the <code>transform</code> function on a <code>TfidfVectorizer</code> that you use the returned sparse matrix for efficiency reasons and not convert the matrix to a <code>numpy</code> array using the <code>toarray<code> function.</em></P>"
   ]
  },
  {
   "cell_type": "code",
   "execution_count": 26,
   "metadata": {},
   "outputs": [],
   "source": [
    "# Read in test data from two files containing (1) text of each user's reviews and \n",
    "# (2) the business IDs for the businesses that each user has reviewed.\n",
    "# Featurize the text of users' reviews using the trained TfidVectorizer created earlier.\n",
    "\n",
    "datat = [[],[]]\n",
    "filereader = open('test_businesses.txt','r')\n",
    "file = filereader.readline()\n",
    "while(file):\n",
    "    file = file.replace('\\n','').replace('\\\\n','').replace('\\\\','').split('\\t')\n",
    "    datat[0].append(file[0])\n",
    "    datat[1].append(file[1:])\n",
    "    file = filereader.readline()\n",
    "filereader.close()\n",
    "usert = datat[0]\n",
    "bizt = datat[1]\n",
    "\n",
    "data = []\n",
    "filereader = open('test_reviews.txt','r')\n",
    "file = filereader.readline()\n",
    "while(file):\n",
    "    file = file.replace('\\n','').replace('\\\\n','').replace('\\\\','').split('\\t')\n",
    "    data.append(file)\n",
    "    file = filereader.readline()\n",
    "filereader.close()\n",
    "idst = [file[0] for file in data]\n",
    "revst = [file[1] for file in data]\n",
    "\n",
    "X_test = v.transform(revst)\n"
   ]
  },
  {
   "cell_type": "markdown",
   "metadata": {},
   "source": [
    "<P>It is not easy to predict what new businesses a user will review in the future based only on the text of a user's previous reviews (we are not even considering which businesses the user has visited previously or the locations of businesses!). But we'll give it a try. Expect the accuracy of our predictions to be low.</P>\n",
    "\n",
    "<P>In order to predict the businesses that a user is likely to review, we'll compare the text of all reviews (from other users) for a business with the text of all reviews from a user. If the text of a business's reviews is similar (i.e., has similar bi-gram features) to the text of a user's reviews, we will predict that the user will review the business. Using <code>sklearn</code>'s <a href=\"http://scikit-learn.org/stable/modules/generated/sklearn.metrics.pairwise.cosine_similarity.html\"><code>cosine_similarity</code></a> function, write code below to compute the similarity of each user's featurized text reviews with each business's featurized text reviews.</P>"
   ]
  },
  {
   "cell_type": "code",
   "execution_count": 27,
   "metadata": {},
   "outputs": [],
   "source": [
    "# Using sklearn's cosine_similarity function, compute the similarity of \n",
    "# each user's featurized text reviews with each business's featurized text reviews.\n",
    "\n",
    "from sklearn.metrics.pairwise import cosine_similarity\n",
    "sim = cosine_similarity(X_test,X_train)"
   ]
  },
  {
   "cell_type": "code",
   "execution_count": 28,
   "metadata": {},
   "outputs": [
    {
     "data": {
      "text/plain": [
       "array([[0.58946464, 0.69378544, 0.48963578, ..., 0.07053503, 0.11905741,\n",
       "        0.14119936],\n",
       "       [0.59327065, 0.70905669, 0.4831291 , ..., 0.0558425 , 0.11536009,\n",
       "        0.13263431],\n",
       "       [0.06284071, 0.07718672, 0.04912917, ..., 0.00907744, 0.020372  ,\n",
       "        0.01791243],\n",
       "       ...,\n",
       "       [0.61330119, 0.69960985, 0.51542029, ..., 0.06496702, 0.11151165,\n",
       "        0.14181744],\n",
       "       [0.16734157, 0.18593662, 0.1260974 , ..., 0.02379909, 0.03792786,\n",
       "        0.05322412],\n",
       "       [0.13095775, 0.15526743, 0.11000622, ..., 0.01270252, 0.02107398,\n",
       "        0.02455734]])"
      ]
     },
     "execution_count": 28,
     "metadata": {},
     "output_type": "execute_result"
    }
   ],
   "source": [
    "sim"
   ]
  },
  {
   "cell_type": "markdown",
   "metadata": {},
   "source": [
    "<P>For a given similarity threshold, say 0.5, we'll predict that a user will review a business if the similarity betweeen the featurized text of their reviews and the featurized text of the business's reviews is above the threshold. In this way, for a given similarity threshold, we can predict whether each user will review each business.</P>\n",
    "\n",
    "<P>We also want to evalute our predictions. Do the businesses that we predict a user will review correspond to the actual businesses that a user has reviewed (from the file <code>test_business.txt</code>)? Write a function <code>evaluate</code> below that predicts the businesses each user will review and then evaluates these predictions. The predictions should be evaluated by computing whether the predictions correspond to true positives, false positives, true negatives, or false negatives. A true positive prediction occurs when we predict a user will review a business and the user has actually reviewed that business. A false positive prediction occurs when we predict a user will review a business but the user has not actually reviewed that business. A true negative prediction occurs when we do not predict a user will review a business and the user has not actually reviewed the business. A false negative prediction occurs when we do not predict a user will review a business but the user has actually reviewed the business. The <code>evaluate</code> function should compute, for a given similarity threshold, the true positives, false positives, true negatives, and false negatives for all users possibly reviewing all businesses. The function should return the recall and the precision of all possible predictions for a given similarity threshold. As input the function should take a similarity threshold as well as any other input parameters you deem appropriate. You should then execute your <code>evaluate</code> function using eleven different similarity threshold values: 0.0, 0.1, 0.2, 0.3, 0.4, 0.5, 0.6, 0.7, 0.8, 0.9, 1.0, and determine the recall and precision for each.</P>"
   ]
  },
  {
   "cell_type": "code",
   "execution_count": 31,
   "metadata": {},
   "outputs": [],
   "source": [
    "# Design a function *evaluate* that takes a similarity threshold as input\n",
    "# along with any other appropriate input parameters. The function should\n",
    "# predict for each user the set of businesses that the user is likely to\n",
    "# review by determing if the user's featurized text reviews are similar\n",
    "# (above the threshold) to a business's featurized text reviews.\n",
    "# The function should return the recall and precision of all predictions\n",
    "# by evaluating whether the predictions correspond to actual businesses \n",
    "# reviewed by users.\n",
    "# As a final step, the function should be executing using 11 different\n",
    "# similarity thresholds: 0.0, 0.1, 0.2, 0.3, 0.4, 0.5, 0.6, 0.7, 0.8, 0.9, 1.0,\n",
    "# so that 11 recall and precision values are determined.\n",
    "from sklearn.metrics import recall_score\n",
    "from sklearn.metrics import precision_score\n",
    "thresh = [0.0, 0.1, 0.2, 0.3, 0.4, 0.5, 0.6, 0.7, 0.8, 0.9, 1.0]\n",
    "def evaluate(t,sim,revs):\n",
    "    pred = np.greater_equal(sim,t)\n",
    "    TP = np.sum(np.logical_and(pred==True,revs==True))\n",
    "    FP = np.sum(np.logical_and(pred==True,revs==False))\n",
    "    TN = np.sum(np.logical_and(pred==False,revs==False))\n",
    "    FN = np.sum(np.logical_and(pred==False,revs==True))\n",
    "    precision = (TP+1)/((TP+FP)+1)\n",
    "    recall = TP/(TP+FN)            \n",
    "    return precision,recall\n",
    "treviews = np.array([np.isin(ids,bizt[i]) for i in range(len(bizt))])          \n",
    "evaluate(0.5,sim,treviews)\n",
    "p = []\n",
    "r = []\n",
    "for t in thresh:\n",
    "    scores = evaluate(t,sim,treviews)\n",
    "    p.append(scores[0])\n",
    "    r.append(scores[1])"
   ]
  },
  {
   "cell_type": "markdown",
   "metadata": {},
   "source": [
    "<P><font color=\"maroon\"><u>Below, write code to plot the recall and precision using the eleven different similarity threhsolds. Your plot might look something like this:<BR>\n",
    "<center><img src=\"recall_precision.png\" width=300></img></center><u></font></P>"
   ]
  },
  {
   "cell_type": "code",
   "execution_count": 34,
   "metadata": {},
   "outputs": [
    {
     "data": {
      "image/png": "[encoded data removed]",
      "text/plain": [
       "<Figure size 432x288 with 1 Axes>"
      ]
     },
     "metadata": {},
     "output_type": "display_data"
    }
   ],
   "source": [
    "# Plot recall and precision of predictions using eleven different similarity thresholds.\n",
    "\n",
    "\n",
    "import matplotlib.pyplot as plt\n",
    "plt.plot(r,p)\n",
    "plt.xlabel(\"Recall\")\n",
    "plt.ylabel(\"Precision\")\n",
    "plt.show()\n"
   ]
  },
  {
   "cell_type": "markdown",
   "metadata": {},
   "source": [
    "<P><font color=\"maroon\"><u>Below, write code to calculate and plot the F1 score on the y-axis and the eleven different similarity threhsolds on the x-axis. Your plot might look something like this:<BR>\n",
    "<center><img src=\"f1.png\" width=300></img></center><u></font></P>"
   ]
  },
  {
   "cell_type": "code",
   "execution_count": 38,
   "metadata": {},
   "outputs": [
    {
     "data": {
      "image/png": "[encoded data removed]",
      "text/plain": [
       "<Figure size 432x288 with 1 Axes>"
      ]
     },
     "metadata": {},
     "output_type": "display_data"
    }
   ],
   "source": [
    "# Compute and plot F1 score of predictions using eleven different similarity thresholds.\n",
    "\n",
    "f1 = np.zeros(len(p))\n",
    "for i in range(len(p)):\n",
    "    f1[i] = 2*(p[i]*r[i])/(p[i]+r[i])\n",
    "plt.plot(thresh,f1)\n",
    "plt.xlabel(\"Similarity threshold\")\n",
    "plt.ylabel(\"F1 score\")\n",
    "plt.show()"
   ]
  },
  {
   "cell_type": "markdown",
   "metadata": {},
   "source": [
    "<H2>Submitting your work\n",
    "</H2>"
   ]
  },
  {
   "cell_type": "markdown",
   "metadata": {},
   "source": [
    "<P><font color=\"maroon\"><u>Please indicate your name and the names of any partner that worked with you on this project:</u></font></P>"
   ]
  },
  {
   "cell_type": "markdown",
   "metadata": {},
   "source": [
    "Name(s): Shreya Parjan"
   ]
  },
  {
   "cell_type": "markdown",
   "metadata": {},
   "source": [
    "<P><font color=\"maroon\"><u>Please indicate anyone else that you collaborated with in the process of doing the project:</u></font></P>"
   ]
  },
  {
   "cell_type": "markdown",
   "metadata": {},
   "source": [
    "Collaborators: "
   ]
  },
  {
   "cell_type": "markdown",
   "metadata": {},
   "source": [
    "<P><font color=\"maroon\"><u>If you or your partner is using a late coupon, please indicate who is using the coupon and how many coupons:</u></font></P>"
   ]
  },
  {
   "cell_type": "markdown",
   "metadata": {},
   "source": [
    "Late coupons: Shreya Parjan, all\n",
    "**Disclaimer: I ran out of late passes and wanted to at least submit the work I had completed so this version of my project 4 submission lacks much of task 3 at the moment.**"
   ]
  },
  {
   "cell_type": "markdown",
   "metadata": {},
   "source": [
    "<P><font color=\"maroon\"><u>When working on this project, approximately how many hours did you spend on each of (1) Task 1, (2) Task 2, (3) Task 3, and (4) Total?</u></font></P>"
   ]
  },
  {
   "cell_type": "markdown",
   "metadata": {},
   "source": [
    "Hours on Task 1: 0.5\n",
    "Hours on Task 2: 8\n",
    "Hours on Task 3: 0.5\n",
    "Total hours: 9"
   ]
  },
  {
   "cell_type": "markdown",
   "metadata": {},
   "source": [
    "<P><font color=\"maroon\"><u>When working on this project, did you abide by the <a href=\"https://www.wellesley.edu/studentlife/aboutus/honor\">Honor Code</a> and is all of the work that you are submitting your own and/or your partner's?</u></font></P>"
   ]
  },
  {
   "cell_type": "markdown",
   "metadata": {},
   "source": [
    "Abide by Honor Code: yes"
   ]
  },
  {
   "cell_type": "markdown",
   "metadata": {},
   "source": [
    "<P><font color=\"maroon\"><u>To submit this project, please upload your <code>Project4.ipynb</code> file to the <code>Project4</code> folder that the instructor created and shared with you in your Google drive.</u></font></P>"
   ]
  },
  {
   "cell_type": "code",
   "execution_count": null,
   "metadata": {
    "collapsed": true
   },
   "outputs": [],
   "source": []
  }
 ],
 "metadata": {
  "kernelspec": {
   "display_name": "Python 3",
   "language": "python",
   "name": "python3"
  },
  "language_info": {
   "codemirror_mode": {
    "name": "ipython",
    "version": 3
   },
   "file_extension": ".py",
   "mimetype": "text/x-python",
   "name": "python",
   "nbconvert_exporter": "python",
   "pygments_lexer": "ipython3",
   "version": "3.6.5"
  }
 },
 "nbformat": 4,
 "nbformat_minor": 2
}
